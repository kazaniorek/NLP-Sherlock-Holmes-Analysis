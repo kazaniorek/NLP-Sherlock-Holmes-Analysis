{
 "cells": [
  {
   "cell_type": "markdown",
   "id": "5e8c0040",
   "metadata": {},
   "source": [
    "# Task 3: Create Vector Embeddings for Individual Paragraphs from Sherlock Holmes Stories"
   ]
  },
  {
   "cell_type": "code",
   "execution_count": 1,
   "id": "15369ed2",
   "metadata": {},
   "outputs": [
    {
     "name": "stdout",
     "output_type": "stream",
     "text": [
      "WARNING:tensorflow:From C:\\Users\\kazan\\anaconda3\\Lib\\site-packages\\tf_keras\\src\\losses.py:2976: The name tf.losses.sparse_softmax_cross_entropy is deprecated. Please use tf.compat.v1.losses.sparse_softmax_cross_entropy instead.\n",
      "\n"
     ]
    }
   ],
   "source": [
    "import os\n",
    "import nltk\n",
    "from nltk.tokenize import sent_tokenize\n",
    "from nltk.tokenize import word_tokenize\n",
    "from sentence_transformers import SentenceTransformer\n",
    "import numpy as np\n",
    "import pandas as pd\n",
    "import json\n",
    "from collections import Counter\n",
    "import matplotlib.pyplot as plt\n",
    "from sklearn.feature_extraction.text import TfidfVectorizer\n",
    "from sklearn.metrics.pairwise import cosine_similarity\n",
    "import chromadb\n",
    "from chromadb.config import Settings\n",
    "from sklearn.feature_extraction.text import CountVectorizer\n",
    "from sklearn.decomposition import LatentDirichletAllocation"
   ]
  },
  {
   "cell_type": "code",
   "execution_count": 2,
   "id": "ed7bcd02",
   "metadata": {},
   "outputs": [
    {
     "name": "stderr",
     "output_type": "stream",
     "text": [
      "[nltk_data] Downloading package punkt to\n",
      "[nltk_data]     C:\\Users\\kazan\\AppData\\Roaming\\nltk_data...\n",
      "[nltk_data]   Package punkt is already up-to-date!\n"
     ]
    }
   ],
   "source": [
    "# Ensure necessary NLTK resources are downloaded\n",
    "nltk.download('punkt')\n",
    "# Seting the path for Jupyter\n",
    "cleaned_folder_path = \"C:/Users/kazan/Downloads/Sherlock Holmes Stories/cleaned_sherlock\""
   ]
  },
  {
   "cell_type": "code",
   "execution_count": 3,
   "id": "0f3bdfc8",
   "metadata": {
    "scrolled": false
   },
   "outputs": [
    {
     "name": "stderr",
     "output_type": "stream",
     "text": [
      "[nltk_data] Downloading package punkt to\n",
      "[nltk_data]     C:\\Users\\kazan\\AppData\\Roaming\\nltk_data...\n",
      "[nltk_data]   Package punkt is already up-to-date!\n"
     ]
    },
    {
     "name": "stdout",
     "output_type": "stream",
     "text": [
      "\n",
      "--- Tokenization Analysis ---\n",
      "Total Tokens: 2348417\n",
      "Average Tokens per File: 35051.00\n",
      "Max Tokens in a File: 657612\n",
      "Min Tokens in a File: 4544\n",
      "\n",
      "File-wise Token Counts:\n",
      "3gab.txt: 6125 tokens\n",
      "3gar.txt: 6261 tokens\n",
      "3stu.txt: 6546 tokens\n",
      "abbe.txt: 9228 tokens\n",
      "advs.txt: 104564 tokens\n",
      "bery.txt: 9766 tokens\n",
      "blac.txt: 8184 tokens\n",
      "blan.txt: 7788 tokens\n",
      "blue.txt: 7892 tokens\n",
      "bosc.txt: 9698 tokens\n",
      "bruc.txt: 10764 tokens\n",
      "cano.txt: 657612 tokens\n",
      "card.txt: 8725 tokens\n",
      "case.txt: 82669 tokens\n",
      "chas.txt: 6789 tokens\n",
      "cnus.txt: 575016 tokens\n",
      "copp.txt: 10032 tokens\n",
      "cree.txt: 7737 tokens\n",
      "croo.txt: 7207 tokens\n",
      "danc.txt: 9796 tokens\n",
      "devi.txt: 10058 tokens\n",
      "dyin.txt: 5858 tokens\n",
      "empt.txt: 8776 tokens\n",
      "engr.txt: 8370 tokens\n",
      "fina.txt: 7231 tokens\n",
      "five.txt: 7396 tokens\n",
      "glor.txt: 7914 tokens\n",
      "gold.txt: 9034 tokens\n",
      "gree.txt: 7081 tokens\n",
      "houn.txt: 59275 tokens\n",
      "iden.txt: 7055 tokens\n",
      "illu.txt: 9815 tokens\n",
      "lady.txt: 7750 tokens\n",
      "last.txt: 6129 tokens\n",
      "lion.txt: 7259 tokens\n",
      "lstb.txt: 67799 tokens\n",
      "maza.txt: 5726 tokens\n",
      "mems.txt: 87145 tokens\n",
      "miss.txt: 8124 tokens\n",
      "musg.txt: 7650 tokens\n",
      "nava.txt: 12710 tokens\n",
      "nobl.txt: 8189 tokens\n",
      "norw.txt: 9302 tokens\n",
      "prio.txt: 11563 tokens\n",
      "redc.txt: 7385 tokens\n",
      "redh.txt: 9181 tokens\n",
      "reig.txt: 7298 tokens\n",
      "resi.txt: 6693 tokens\n",
      "reti.txt: 5585 tokens\n",
      "retn.txt: 112411 tokens\n",
      "scan.txt: 8606 tokens\n",
      "seco.txt: 9716 tokens\n",
      "shos.txt: 6317 tokens\n",
      "sign.txt: 43163 tokens\n",
      "silv.txt: 9656 tokens\n",
      "sixn.txt: 8399 tokens\n",
      "soli.txt: 7912 tokens\n",
      "spec.txt: 9895 tokens\n",
      "stoc.txt: 6857 tokens\n",
      "stud.txt: 43466 tokens\n",
      "suss.txt: 6048 tokens\n",
      "thor.txt: 9653 tokens\n",
      "twis.txt: 9275 tokens\n",
      "vall.txt: 57682 tokens\n",
      "veil.txt: 4544 tokens\n",
      "wist.txt: 11486 tokens\n",
      "yell.txt: 7581 tokens\n",
      "\n",
      "Most Common Tokens:\n",
      "the: 118564\n",
      "I: 59614\n",
      "and: 59336\n",
      "of: 59054\n",
      "to: 55722\n",
      "a: 53310\n",
      "that: 37777\n",
      "in: 36507\n",
      "was: 34802\n",
      "it: 28805\n"
     ]
    },
    {
     "data": {
      "image/png": "[encoded data removed]",
      "text/plain": [
       "<Figure size 1000x600 with 1 Axes>"
      ]
     },
     "metadata": {},
     "output_type": "display_data"
    }
   ],
   "source": [
    "# Ensuring the required NLTK resources are downloaded\n",
    "nltk.download('punkt')\n",
    "\n",
    "def tokenize_and_analyze(folder_path):\n",
    "    \"\"\"\n",
    "    Tokenizes the text in each file and performs analysis on token distributions.\n",
    "    \"\"\"\n",
    "    token_counts = {}\n",
    "    all_tokens = []\n",
    "    \n",
    "    for file_name in os.listdir(folder_path):\n",
    "        file_path = os.path.join(folder_path, file_name)\n",
    "        if os.path.isfile(file_path):\n",
    "            with open(file_path, 'r', encoding='utf-8') as file:\n",
    "                text = file.read()\n",
    "                tokens = word_tokenize(text)  # Tokenizacja tekstu\n",
    "                token_counts[file_name] = len(tokens)\n",
    "                all_tokens.extend(tokens)\n",
    "    \n",
    "     # Display token statistics\n",
    "    print(\"\\n--- Tokenization Analysis ---\")\n",
    "    total_tokens = sum(token_counts.values())\n",
    "    avg_tokens = total_tokens / len(token_counts)\n",
    "    max_tokens = max(token_counts.values())\n",
    "    min_tokens = min(token_counts.values())\n",
    "    print(f\"Total Tokens: {total_tokens}\")\n",
    "    print(f\"Average Tokens per File: {avg_tokens:.2f}\")\n",
    "    print(f\"Max Tokens in a File: {max_tokens}\")\n",
    "    print(f\"Min Tokens in a File: {min_tokens}\")\n",
    "    print(\"\\nFile-wise Token Counts:\")\n",
    "    for file_name, count in token_counts.items():\n",
    "        print(f\"{file_name}: {count} tokens\")\n",
    "    \n",
    "    # Analysing the most frequent tokens\n",
    "    token_frequency = Counter(all_tokens)\n",
    "    print(\"\\nMost Common Tokens:\")\n",
    "    for token, freq in token_frequency.most_common(10):\n",
    "        print(f\"{token}: {freq}\")\n",
    "    \n",
    "    # Visualising token distribution across files\n",
    "    plt.figure(figsize=(10, 6))\n",
    "    plt.hist(token_counts.values(), bins=10, color='blue', alpha=0.7)\n",
    "    plt.title(\"Distribution of Token Counts Across Files\")\n",
    "    plt.xlabel(\"Number of Tokens\")\n",
    "    plt.ylabel(\"Frequency\")\n",
    "    plt.show()\n",
    "    \n",
    "    return token_counts, token_frequency\n",
    "\n",
    "# Perform tokenization and analysis\n",
    "token_counts, token_frequency = tokenize_and_analyze(cleaned_folder_path)"
   ]
  },
  {
   "cell_type": "code",
   "execution_count": 4,
   "id": "b49ee70c",
   "metadata": {
    "scrolled": true
   },
   "outputs": [
    {
     "name": "stdout",
     "output_type": "stream",
     "text": [
      "TF-IDF Matrix Shape: (67, 22772)\n",
      "\n",
      "Cosine Similarity Matrix:\n",
      "[[1.         0.89009383 0.88884431 ... 0.8711414  0.89170245 0.89245661]\n",
      " [0.89009383 1.         0.88210766 ... 0.8584343  0.89342139 0.87330625]\n",
      " [0.88884431 0.88210766 1.         ... 0.86890765 0.90278605 0.87862959]\n",
      " ...\n",
      " [0.8711414  0.8584343  0.86890765 ... 1.         0.9039765  0.90373499]\n",
      " [0.89170245 0.89342139 0.90278605 ... 0.9039765  1.         0.90474851]\n",
      " [0.89245661 0.87330625 0.87862959 ... 0.90373499 0.90474851 1.        ]]\n",
      "\n",
      "Top similar documents for '3gab.txt':\n",
      "   case.txt (Score: 0.9420)\n",
      "   cano.txt (Score: 0.9259)\n",
      "   retn.txt (Score: 0.9244)\n",
      "\n",
      "Top similar documents for '3gar.txt':\n",
      "   case.txt (Score: 0.9351)\n",
      "   cano.txt (Score: 0.9207)\n",
      "   lstb.txt (Score: 0.9189)\n",
      "\n",
      "Top similar documents for '3stu.txt':\n",
      "   retn.txt (Score: 0.9440)\n",
      "   cano.txt (Score: 0.9379)\n",
      "   cnus.txt (Score: 0.9369)\n",
      "\n",
      "Top similar documents for 'abbe.txt':\n",
      "   retn.txt (Score: 0.9633)\n",
      "   cano.txt (Score: 0.9605)\n",
      "   cnus.txt (Score: 0.9597)\n",
      "\n",
      "Top similar documents for 'advs.txt':\n",
      "   cano.txt (Score: 0.9949)\n",
      "   cnus.txt (Score: 0.9949)\n",
      "   mems.txt (Score: 0.9907)\n",
      "\n",
      "Top similar documents for 'bery.txt':\n",
      "   advs.txt (Score: 0.9665)\n",
      "   cano.txt (Score: 0.9628)\n",
      "   cnus.txt (Score: 0.9618)\n",
      "\n",
      "Top similar documents for 'blac.txt':\n",
      "   retn.txt (Score: 0.9577)\n",
      "   cnus.txt (Score: 0.9522)\n",
      "   cano.txt (Score: 0.9517)\n",
      "\n",
      "Top similar documents for 'blan.txt':\n",
      "   case.txt (Score: 0.9544)\n",
      "   cano.txt (Score: 0.9495)\n",
      "   cnus.txt (Score: 0.9476)\n",
      "\n",
      "Top similar documents for 'blue.txt':\n",
      "   advs.txt (Score: 0.9554)\n",
      "   cnus.txt (Score: 0.9530)\n",
      "   cano.txt (Score: 0.9529)\n",
      "\n",
      "Top similar documents for 'bosc.txt':\n",
      "   advs.txt (Score: 0.9661)\n",
      "   cano.txt (Score: 0.9634)\n",
      "   cnus.txt (Score: 0.9634)\n",
      "\n",
      "Top similar documents for 'bruc.txt':\n",
      "   lstb.txt (Score: 0.9661)\n",
      "   cnus.txt (Score: 0.9616)\n",
      "   cano.txt (Score: 0.9615)\n",
      "\n",
      "Top similar documents for 'cano.txt':\n",
      "   cnus.txt (Score: 0.9998)\n",
      "   retn.txt (Score: 0.9961)\n",
      "   mems.txt (Score: 0.9954)\n",
      "\n",
      "Top similar documents for 'card.txt':\n",
      "   lstb.txt (Score: 0.9442)\n",
      "   advs.txt (Score: 0.9422)\n",
      "   cano.txt (Score: 0.9399)\n",
      "\n",
      "Top similar documents for 'case.txt':\n",
      "   cano.txt (Score: 0.9919)\n",
      "   cnus.txt (Score: 0.9896)\n",
      "   retn.txt (Score: 0.9889)\n",
      "\n",
      "Top similar documents for 'chas.txt':\n",
      "   retn.txt (Score: 0.9548)\n",
      "   cnus.txt (Score: 0.9537)\n",
      "   cano.txt (Score: 0.9535)\n",
      "\n",
      "Top similar documents for 'cnus.txt':\n",
      "   cano.txt (Score: 0.9998)\n",
      "   retn.txt (Score: 0.9958)\n",
      "   mems.txt (Score: 0.9957)\n",
      "\n",
      "Top similar documents for 'copp.txt':\n",
      "   advs.txt (Score: 0.9657)\n",
      "   cano.txt (Score: 0.9568)\n",
      "   cnus.txt (Score: 0.9561)\n",
      "\n",
      "Top similar documents for 'cree.txt':\n",
      "   case.txt (Score: 0.9451)\n",
      "   cano.txt (Score: 0.9415)\n",
      "   retn.txt (Score: 0.9401)\n",
      "\n",
      "Top similar documents for 'croo.txt':\n",
      "   mems.txt (Score: 0.9671)\n",
      "   cnus.txt (Score: 0.9629)\n",
      "   cano.txt (Score: 0.9625)\n",
      "\n",
      "Top similar documents for 'danc.txt':\n",
      "   retn.txt (Score: 0.9612)\n",
      "   cano.txt (Score: 0.9595)\n",
      "   cnus.txt (Score: 0.9592)\n",
      "\n",
      "Top similar documents for 'devi.txt':\n",
      "   lstb.txt (Score: 0.9659)\n",
      "   cnus.txt (Score: 0.9626)\n",
      "   cano.txt (Score: 0.9619)\n",
      "\n",
      "Top similar documents for 'dyin.txt':\n",
      "   case.txt (Score: 0.9252)\n",
      "   illu.txt (Score: 0.9237)\n",
      "   lstb.txt (Score: 0.9184)\n",
      "\n",
      "Top similar documents for 'empt.txt':\n",
      "   mems.txt (Score: 0.9683)\n",
      "   cnus.txt (Score: 0.9682)\n",
      "   retn.txt (Score: 0.9676)\n",
      "\n",
      "Top similar documents for 'engr.txt':\n",
      "   advs.txt (Score: 0.9708)\n",
      "   mems.txt (Score: 0.9657)\n",
      "   cnus.txt (Score: 0.9653)\n",
      "\n",
      "Top similar documents for 'fina.txt':\n",
      "   mems.txt (Score: 0.9731)\n",
      "   cnus.txt (Score: 0.9703)\n",
      "   cano.txt (Score: 0.9699)\n",
      "\n",
      "Top similar documents for 'five.txt':\n",
      "   cnus.txt (Score: 0.9672)\n",
      "   cano.txt (Score: 0.9662)\n",
      "   advs.txt (Score: 0.9661)\n",
      "\n",
      "Top similar documents for 'glor.txt':\n",
      "   mems.txt (Score: 0.9671)\n",
      "   cnus.txt (Score: 0.9629)\n",
      "   cano.txt (Score: 0.9621)\n",
      "\n",
      "Top similar documents for 'gold.txt':\n",
      "   retn.txt (Score: 0.9722)\n",
      "   cano.txt (Score: 0.9685)\n",
      "   cnus.txt (Score: 0.9684)\n",
      "\n",
      "Top similar documents for 'gree.txt':\n",
      "   mems.txt (Score: 0.9589)\n",
      "   cnus.txt (Score: 0.9552)\n",
      "   cano.txt (Score: 0.9551)\n",
      "\n",
      "Top similar documents for 'houn.txt':\n",
      "   cnus.txt (Score: 0.9823)\n",
      "   cano.txt (Score: 0.9819)\n",
      "   retn.txt (Score: 0.9755)\n",
      "\n",
      "Top similar documents for 'iden.txt':\n",
      "   advs.txt (Score: 0.9585)\n",
      "   cano.txt (Score: 0.9526)\n",
      "   cnus.txt (Score: 0.9520)\n",
      "\n",
      "Top similar documents for 'illu.txt':\n",
      "   case.txt (Score: 0.9728)\n",
      "   cano.txt (Score: 0.9649)\n",
      "   cnus.txt (Score: 0.9626)\n",
      "\n",
      "Top similar documents for 'lady.txt':\n",
      "   lstb.txt (Score: 0.9482)\n",
      "   cano.txt (Score: 0.9401)\n",
      "   cnus.txt (Score: 0.9395)\n",
      "\n",
      "Top similar documents for 'last.txt':\n",
      "   lstb.txt (Score: 0.9283)\n",
      "   cano.txt (Score: 0.9201)\n",
      "   cnus.txt (Score: 0.9195)\n",
      "\n",
      "Top similar documents for 'lion.txt':\n",
      "   case.txt (Score: 0.9427)\n",
      "   cano.txt (Score: 0.9424)\n",
      "   cnus.txt (Score: 0.9411)\n",
      "\n",
      "Top similar documents for 'lstb.txt':\n",
      "   cano.txt (Score: 0.9943)\n",
      "   cnus.txt (Score: 0.9940)\n",
      "   retn.txt (Score: 0.9906)\n",
      "\n",
      "Top similar documents for 'maza.txt':\n",
      "   case.txt (Score: 0.9172)\n",
      "   cano.txt (Score: 0.9046)\n",
      "   lstb.txt (Score: 0.9023)\n",
      "\n",
      "Top similar documents for 'mems.txt':\n",
      "   cnus.txt (Score: 0.9957)\n",
      "   cano.txt (Score: 0.9954)\n",
      "   advs.txt (Score: 0.9907)\n",
      "\n",
      "Top similar documents for 'miss.txt':\n",
      "   retn.txt (Score: 0.9475)\n",
      "   cano.txt (Score: 0.9452)\n",
      "   cnus.txt (Score: 0.9444)\n",
      "\n",
      "Top similar documents for 'musg.txt':\n",
      "   mems.txt (Score: 0.9641)\n",
      "   cnus.txt (Score: 0.9582)\n",
      "   cano.txt (Score: 0.9572)\n",
      "\n",
      "Top similar documents for 'nava.txt':\n",
      "   mems.txt (Score: 0.9764)\n",
      "   cano.txt (Score: 0.9730)\n",
      "   cnus.txt (Score: 0.9728)\n",
      "\n",
      "Top similar documents for 'nobl.txt':\n",
      "   advs.txt (Score: 0.9480)\n",
      "   cano.txt (Score: 0.9369)\n",
      "   cnus.txt (Score: 0.9368)\n",
      "\n",
      "Top similar documents for 'norw.txt':\n",
      "   retn.txt (Score: 0.9620)\n",
      "   cano.txt (Score: 0.9570)\n",
      "   cnus.txt (Score: 0.9563)\n",
      "\n",
      "Top similar documents for 'prio.txt':\n",
      "   retn.txt (Score: 0.9683)\n",
      "   cano.txt (Score: 0.9633)\n",
      "   cnus.txt (Score: 0.9631)\n",
      "\n",
      "Top similar documents for 'redc.txt':\n",
      "   lstb.txt (Score: 0.9573)\n",
      "   cano.txt (Score: 0.9525)\n",
      "   cnus.txt (Score: 0.9518)\n",
      "\n",
      "Top similar documents for 'redh.txt':\n",
      "   advs.txt (Score: 0.9682)\n",
      "   cano.txt (Score: 0.9643)\n",
      "   cnus.txt (Score: 0.9642)\n",
      "\n",
      "Top similar documents for 'reig.txt':\n",
      "   mems.txt (Score: 0.9604)\n",
      "   cnus.txt (Score: 0.9558)\n",
      "   cano.txt (Score: 0.9553)\n",
      "\n",
      "Top similar documents for 'resi.txt':\n",
      "   mems.txt (Score: 0.9612)\n",
      "   cnus.txt (Score: 0.9572)\n",
      "   cano.txt (Score: 0.9570)\n",
      "\n",
      "Top similar documents for 'reti.txt':\n",
      "   case.txt (Score: 0.9523)\n",
      "   cano.txt (Score: 0.9480)\n",
      "   cnus.txt (Score: 0.9462)\n",
      "\n",
      "Top similar documents for 'retn.txt':\n",
      "   cano.txt (Score: 0.9961)\n",
      "   cnus.txt (Score: 0.9958)\n",
      "   lstb.txt (Score: 0.9906)\n",
      "\n",
      "Top similar documents for 'scan.txt':\n",
      "   advs.txt (Score: 0.9708)\n",
      "   cano.txt (Score: 0.9641)\n",
      "   cnus.txt (Score: 0.9639)\n",
      "\n",
      "Top similar documents for 'seco.txt':\n",
      "   retn.txt (Score: 0.9659)\n",
      "   cano.txt (Score: 0.9613)\n",
      "   case.txt (Score: 0.9610)\n",
      "\n",
      "Top similar documents for 'shos.txt':\n",
      "   case.txt (Score: 0.9324)\n",
      "   cano.txt (Score: 0.9215)\n",
      "   cnus.txt (Score: 0.9189)\n",
      "\n",
      "Top similar documents for 'sign.txt':\n",
      "   cnus.txt (Score: 0.9853)\n",
      "   cano.txt (Score: 0.9848)\n",
      "   advs.txt (Score: 0.9800)\n",
      "\n",
      "Top similar documents for 'silv.txt':\n",
      "   mems.txt (Score: 0.9579)\n",
      "   cnus.txt (Score: 0.9513)\n",
      "   cano.txt (Score: 0.9504)\n",
      "\n",
      "Top similar documents for 'sixn.txt':\n",
      "   retn.txt (Score: 0.9586)\n",
      "   cnus.txt (Score: 0.9539)\n",
      "   cano.txt (Score: 0.9537)\n",
      "\n",
      "Top similar documents for 'soli.txt':\n",
      "   retn.txt (Score: 0.9537)\n",
      "   cano.txt (Score: 0.9498)\n",
      "   cnus.txt (Score: 0.9495)\n",
      "\n",
      "Top similar documents for 'spec.txt':\n",
      "   advs.txt (Score: 0.9718)\n",
      "   cnus.txt (Score: 0.9685)\n",
      "   cano.txt (Score: 0.9679)\n",
      "\n",
      "Top similar documents for 'stoc.txt':\n",
      "   mems.txt (Score: 0.9509)\n",
      "   cano.txt (Score: 0.9490)\n",
      "   cnus.txt (Score: 0.9487)\n",
      "\n",
      "Top similar documents for 'stud.txt':\n",
      "   cnus.txt (Score: 0.9833)\n",
      "   cano.txt (Score: 0.9821)\n",
      "   mems.txt (Score: 0.9795)\n",
      "\n",
      "Top similar documents for 'suss.txt':\n",
      "   case.txt (Score: 0.9311)\n",
      "   cano.txt (Score: 0.9200)\n",
      "   advs.txt (Score: 0.9188)\n",
      "\n",
      "Top similar documents for 'thor.txt':\n",
      "   case.txt (Score: 0.9639)\n",
      "   cano.txt (Score: 0.9541)\n",
      "   retn.txt (Score: 0.9527)\n",
      "\n",
      "Top similar documents for 'twis.txt':\n",
      "   advs.txt (Score: 0.9694)\n",
      "   cnus.txt (Score: 0.9647)\n",
      "   cano.txt (Score: 0.9643)\n",
      "\n",
      "Top similar documents for 'vall.txt':\n",
      "   cnus.txt (Score: 0.9749)\n",
      "   cano.txt (Score: 0.9747)\n",
      "   retn.txt (Score: 0.9671)\n",
      "\n",
      "Top similar documents for 'veil.txt':\n",
      "   case.txt (Score: 0.9390)\n",
      "   cano.txt (Score: 0.9371)\n",
      "   cnus.txt (Score: 0.9357)\n",
      "\n",
      "Top similar documents for 'wist.txt':\n",
      "   lstb.txt (Score: 0.9694)\n",
      "   cano.txt (Score: 0.9636)\n",
      "   cnus.txt (Score: 0.9633)\n",
      "\n",
      "Top similar documents for 'yell.txt':\n",
      "   advs.txt (Score: 0.9460)\n",
      "   cano.txt (Score: 0.9416)\n",
      "   case.txt (Score: 0.9410)\n"
     ]
    }
   ],
   "source": [
    "def calculate_distances(folder_path):\n",
    "    \"\"\"\n",
    "    Calculates cosine similarity between documents based on TF-IDF representation.\n",
    "    \"\"\"\n",
    "    documents = []\n",
    "    file_names = []\n",
    "\n",
    "    # Loading files and their content\n",
    "    for file_name in os.listdir(folder_path):\n",
    "        file_path = os.path.join(folder_path, file_name)\n",
    "        if os.path.isfile(file_path):\n",
    "            with open(file_path, 'r', encoding='utf-8') as file:\n",
    "                documents.append(file.read())  # Read and store document text\n",
    "                file_names.append(file_name)  # Store corresponding file names\n",
    "\n",
    "    # Computing TF-IDF representation for the documents\n",
    "    vectorizer = TfidfVectorizer()\n",
    "    tfidf_matrix = vectorizer.fit_transform(documents)\n",
    "    print(f\"TF-IDF Matrix Shape: {tfidf_matrix.shape}\")\n",
    "\n",
    "    # Computing cosine similarity between all documents\n",
    "    similarity_matrix = cosine_similarity(tfidf_matrix)\n",
    "    print(\"\\nCosine Similarity Matrix:\")\n",
    "    print(similarity_matrix)\n",
    "\n",
    "    # Display the top similar documents for each file\n",
    "    for i, file_name in enumerate(file_names):\n",
    "        similar_idx = np.argsort(-similarity_matrix[i])[1:4]  # Top 3 most similar documents\n",
    "        print(f\"\\nTop similar documents for '{file_name}':\")\n",
    "        for idx in similar_idx:\n",
    "            print(f\"   {file_names[idx]} (Score: {similarity_matrix[i][idx]:.4f})\")\n",
    "\n",
    "    return similarity_matrix\n",
    "\n",
    "# Perform document similarity analysis\n",
    "similarity_matrix = calculate_distances(cleaned_folder_path)\n"
   ]
  },
  {
   "cell_type": "code",
   "execution_count": 5,
   "id": "5693b77a",
   "metadata": {},
   "outputs": [
    {
     "name": "stdout",
     "output_type": "stream",
     "text": [
      "Processed '3gab.txt': 1 paragraphs saved.\n",
      "Processed '3gar.txt': 1 paragraphs saved.\n",
      "Processed '3stu.txt': 1 paragraphs saved.\n",
      "Processed 'abbe.txt': 1 paragraphs saved.\n",
      "Processed 'advs.txt': 1 paragraphs saved.\n",
      "Processed 'bery.txt': 1 paragraphs saved.\n",
      "Processed 'blac.txt': 1 paragraphs saved.\n",
      "Processed 'blan.txt': 1 paragraphs saved.\n",
      "Processed 'blue.txt': 1 paragraphs saved.\n",
      "Processed 'bosc.txt': 1 paragraphs saved.\n",
      "Processed 'bruc.txt': 1 paragraphs saved.\n",
      "Processed 'cano.txt': 1 paragraphs saved.\n",
      "Processed 'card.txt': 1 paragraphs saved.\n",
      "Processed 'case.txt': 1 paragraphs saved.\n",
      "Processed 'chas.txt': 1 paragraphs saved.\n",
      "Processed 'cnus.txt': 1 paragraphs saved.\n",
      "Processed 'copp.txt': 1 paragraphs saved.\n",
      "Processed 'cree.txt': 1 paragraphs saved.\n",
      "Processed 'croo.txt': 1 paragraphs saved.\n",
      "Processed 'danc.txt': 1 paragraphs saved.\n",
      "Processed 'devi.txt': 1 paragraphs saved.\n",
      "Processed 'dyin.txt': 1 paragraphs saved.\n",
      "Processed 'empt.txt': 1 paragraphs saved.\n",
      "Processed 'engr.txt': 1 paragraphs saved.\n",
      "Processed 'fina.txt': 1 paragraphs saved.\n",
      "Processed 'five.txt': 1 paragraphs saved.\n",
      "Processed 'glor.txt': 1 paragraphs saved.\n",
      "Processed 'gold.txt': 1 paragraphs saved.\n",
      "Processed 'gree.txt': 1 paragraphs saved.\n",
      "Processed 'houn.txt': 1 paragraphs saved.\n",
      "Processed 'iden.txt': 1 paragraphs saved.\n",
      "Processed 'illu.txt': 1 paragraphs saved.\n",
      "Processed 'lady.txt': 1 paragraphs saved.\n",
      "Processed 'last.txt': 1 paragraphs saved.\n",
      "Processed 'lion.txt': 1 paragraphs saved.\n",
      "Processed 'lstb.txt': 1 paragraphs saved.\n",
      "Processed 'maza.txt': 1 paragraphs saved.\n",
      "Processed 'mems.txt': 1 paragraphs saved.\n",
      "Processed 'miss.txt': 1 paragraphs saved.\n",
      "Processed 'musg.txt': 1 paragraphs saved.\n",
      "Processed 'nava.txt': 1 paragraphs saved.\n",
      "Processed 'nobl.txt': 1 paragraphs saved.\n",
      "Processed 'norw.txt': 1 paragraphs saved.\n",
      "Processed 'prio.txt': 1 paragraphs saved.\n",
      "Processed 'redc.txt': 1 paragraphs saved.\n",
      "Processed 'redh.txt': 1 paragraphs saved.\n",
      "Processed 'reig.txt': 1 paragraphs saved.\n",
      "Processed 'resi.txt': 1 paragraphs saved.\n",
      "Processed 'reti.txt': 1 paragraphs saved.\n",
      "Processed 'retn.txt': 1 paragraphs saved.\n",
      "Processed 'scan.txt': 1 paragraphs saved.\n",
      "Processed 'seco.txt': 1 paragraphs saved.\n",
      "Processed 'shos.txt': 1 paragraphs saved.\n",
      "Processed 'sign.txt': 1 paragraphs saved.\n",
      "Processed 'silv.txt': 1 paragraphs saved.\n",
      "Processed 'sixn.txt': 1 paragraphs saved.\n",
      "Processed 'soli.txt': 1 paragraphs saved.\n",
      "Processed 'spec.txt': 1 paragraphs saved.\n",
      "Processed 'stoc.txt': 1 paragraphs saved.\n",
      "Processed 'stud.txt': 1 paragraphs saved.\n",
      "Processed 'suss.txt': 1 paragraphs saved.\n",
      "Processed 'thor.txt': 1 paragraphs saved.\n",
      "Processed 'twis.txt': 1 paragraphs saved.\n",
      "Processed 'vall.txt': 1 paragraphs saved.\n",
      "Processed 'veil.txt': 1 paragraphs saved.\n",
      "Processed 'wist.txt': 1 paragraphs saved.\n",
      "Processed 'yell.txt': 1 paragraphs saved.\n",
      "\n",
      "Advanced paragraph splitting complete.\n",
      "Total files processed: 67\n",
      "Total paragraphs saved: 67\n"
     ]
    }
   ],
   "source": [
    "def split_into_paragraphs(folder_path, output_folder, sentences_per_paragraph=3):\n",
    "    \"\"\"\n",
    "    Splits text files into paragraphs based on sentence count and saves them.\n",
    "\n",
    "    \"\"\"\n",
    "    # Createing the output folder if it does not exist\n",
    "    if not os.path.exists(output_folder):\n",
    "        os.makedirs(output_folder)\n",
    "\n",
    "    total_files_processed = 0\n",
    "    total_paragraphs_saved = 0\n",
    "\n",
    "    # Loop through each file in the given folder\n",
    "    for file_name in os.listdir(folder_path):\n",
    "        file_path = os.path.join(folder_path, file_name)\n",
    "        if os.path.isfile(file_path):\n",
    "            with open(file_path, 'r', encoding='utf-8') as file:\n",
    "                text = file.read()\n",
    "\n",
    "            # Spliting text into sentences\n",
    "            sentences = text.split('.')\n",
    "            paragraphs = []\n",
    "            temp_paragraph = []\n",
    "\n",
    "            for sentence in sentences:\n",
    "                if len(sentence.strip()) > 0:  # Ignore empty sentences\n",
    "                    temp_paragraph.append(sentence.strip())\n",
    "                    if len(temp_paragraph) >= sentences_per_paragraph:\n",
    "                        paragraphs.append(\". \".join(temp_paragraph) + \".\")\n",
    "                        temp_paragraph = []\n",
    "\n",
    "            # Saving the last paragraph if it exists\n",
    "            if temp_paragraph:\n",
    "                paragraphs.append(\". \".join(temp_paragraph) + \".\")\n",
    "\n",
    "            # Saving processed paragraphs into a new file\n",
    "            output_file_path = os.path.join(output_folder, file_name)\n",
    "            with open(output_file_path, 'w', encoding='utf-8') as output_file:\n",
    "                output_file.write(\"\\n\\n\".join(paragraphs))\n",
    "\n",
    "            # Logging results\n",
    "            total_files_processed += 1\n",
    "            total_paragraphs_saved += len(paragraphs)\n",
    "            print(f\"Processed '{file_name}': {len(paragraphs)} paragraphs saved.\")\n",
    "\n",
    "    print(f\"\\nAdvanced paragraph splitting complete.\")\n",
    "    print(f\"Total files processed: {total_files_processed}\")\n",
    "    print(f\"Total paragraphs saved: {total_paragraphs_saved}\")\n",
    "\n",
    "# Define output folder for paragraph-separated texts\n",
    "paragraph_folder_path = \"/content/drive/My Drive/Sherlock Holmes Stories/advanced_paragraphs\"\n",
    "\n",
    "# Split texts into paragraphs and save them\n",
    "split_into_paragraphs(cleaned_folder_path, paragraph_folder_path)\n"
   ]
  },
  {
   "cell_type": "code",
   "execution_count": 7,
   "id": "a26ad556",
   "metadata": {
    "scrolled": false
   },
   "outputs": [
    {
     "name": "stdout",
     "output_type": "stream",
     "text": [
      "\n",
      "=== Debug: File '3gab.txt' Content (First 300 characters) ===\n",
      "THE THREE GABLES Arthur Conan Doyle I dont think that any of my adventures with Mr Sherlock Holmes opened quite so abruptly or so dramatically as that which I associate with The Three Gables I had not seen Holmes for some days and had no idea of the new channel into which his activities had been dir\n",
      "==================================================\n",
      "\n",
      "=== Debug: File '3gar.txt' Content (First 300 characters) ===\n",
      "THE THREE GARRIDEBS Arthur Conan Doyle It may have been a comedy or it may have been a tragedy It cost one man his reason it cost me a bloodletting and it cost yet another man the penalties of the law Yet there was certainly an element of comedy Well you shall judge for yourselves I remember the dat\n",
      "==================================================\n",
      "\n",
      "=== Debug: File '3stu.txt' Content (First 300 characters) ===\n",
      "THE THREE STUDENTS Arthur Conan Doyle It was in the year 95 that a combination of events into which I need not enter caused Mr Sherlock Holmes and myself to spend some weeks in one of our great University towns and it was during this time that the small but instructive adventure which I am about to \n",
      "==================================================\n",
      "\n",
      "=== Debug: File 'abbe.txt' Content (First 300 characters) ===\n",
      "THE ABBEY GRANGE Arthur Conan Doyle It was on a bitterly cold and frosty morning during the winter of 97 that I was awakened by a tugging at my shoulder It was Holmes The candle in his hand shone upon his eager stooping face and told me at a glance that something was amiss Come Watson come he cried \n",
      "==================================================\n",
      "\n",
      "=== Debug: File 'advs.txt' Content (First 300 characters) ===\n",
      "Table of contents A Scandal in Bohemia The RedHeaded League A Case of Identity The Boscombe Valley Mystery The Five Orange Pips The Man with the Twisted Lip The Adventure of the Blue Carbuncle The Adventure of the Speckled Band The Adventure of the Engineers Thumb The Adventure of the Noble Bachelor\n",
      "==================================================\n",
      "\n",
      "=== Debug: File 'bery.txt' Content (First 300 characters) ===\n",
      "THE BERYL CORONET Arthur Conan Doyle Holmes said I as I stood one morning in our bowwindow looking down the street here is a madman coming along It seems rather sad that his relatives should allow him to come out alone My friend rose lazily from his armchair and stood with his hands in the pockets o\n",
      "==================================================\n",
      "\n",
      "=== Debug: File 'blac.txt' Content (First 300 characters) ===\n",
      "BLACK PETER Arthur Conan Doyle I have never known my friend to be in better form both mental and physical than in the year 95 His increasing fame had brought with it an immense practice and I should be guilty of an indiscretion if I were even to hint at the identity of some of the illustrious client\n",
      "==================================================\n",
      "\n",
      "=== Debug: File 'blan.txt' Content (First 300 characters) ===\n",
      "The ideas of my friend Watson though limited are exceedingly pertinacious For a long time he has worried me to write an experience of my own Perhaps I have rather invited this persecution since I have often had occasion to point out to him how superficial are his own accounts and to accuse him of pa\n",
      "==================================================\n",
      "\n",
      "=== Debug: File 'blue.txt' Content (First 300 characters) ===\n",
      "THE BLUE CARBUNCLE Arthur Conan Doyle I had called upon my friend Sherlock Holmes upon the second morning after Christmas with the intention of wishing him the compliments of the season He was lounging upon the sofa in a purple dressinggown a piperack within his reach upon the right and a pile of cr\n",
      "==================================================\n",
      "\n",
      "=== Debug: File 'bosc.txt' Content (First 300 characters) ===\n",
      "We were seated at breakfast one morning my wife and I when the maid brought in a telegram It was from Sherlock Holmes and ran in this way Have you a couple of days to spare Have just been wired for from the west of England in connection with Boscombe Valley tragedy Shall be glad if you will come wit\n",
      "==================================================\n",
      "\n",
      "=== Debug: File 'bruc.txt' Content (First 300 characters) ===\n",
      "THE BRUCEPARTINGTON PLANS Arthur Conan Doyle In the third week of November in the year 1895 a dense yellow fog settled down upon London From the Monday to the Thursday I doubt whether it was ever possible from our windows in Baker Street to see the loom of the opposite houses The first day Holmes ha\n",
      "==================================================\n",
      "\n",
      "=== Debug: File 'cano.txt' Content (First 300 characters) ===\n",
      "Table of contents A Study In Scarlet The Sign of the Four The Adventures of Sherlock Holmes A Scandal in Bohemia The RedHeaded League A Case of Identity The Boscombe Valley Mystery The Five Orange Pips The Man with the Twisted Lip The Adventure of the Blue Carbuncle The Adventure of the Speckled Ban\n",
      "==================================================\n",
      "\n",
      "=== Debug: File 'card.txt' Content (First 300 characters) ===\n",
      "THE CARDBOARD BOX Arthur Conan Doyle In choosing a few typical cases which illustrate the remarkable mental qualities of my friend Sherlock Holmes I have endeavoured as far as possible to select those which presented the minimum of sensationalism while offering a fair field for his talents It is how\n",
      "==================================================\n",
      "\n",
      "=== Debug: File 'case.txt' Content (First 300 characters) ===\n",
      "Table of contents Preface The Illustrious Client The Blanched Soldier The Adventure Of The Mazarin Stone The Adventure of the Three Gables The Adventure of the Sussex Vampire The Adventure of the Three Garridebs The Problem of Thor Bridge The Adventure of the Creeping Man The Adventure of the Lions \n",
      "==================================================\n",
      "\n",
      "=== Debug: File 'chas.txt' Content (First 300 characters) ===\n",
      "CHARLES AUGUSTUS MILVERTON Arthur Conan Doyle It is years since the incidents of which I speak took place and yet it is with diffidence that I allude to them For a long time even with the utmost discretion and reticence it would have been impossible to make the facts public but now the principal per\n",
      "==================================================\n",
      "\n",
      "=== Debug: File 'cnus.txt' Content (First 300 characters) ===\n",
      "Table of contents A Study In Scarlet The Sign of the Four The Adventures of Sherlock Holmes A Scandal in Bohemia The RedHeaded League A Case of Identity The Boscombe Valley Mystery The Five Orange Pips The Man with the Twisted Lip The Adventure of the Blue Carbuncle The Adventure of the Speckled Ban\n",
      "==================================================\n",
      "\n",
      "=== Debug: File 'copp.txt' Content (First 300 characters) ===\n",
      "THE COPPER BEECHES Arthur Conan Doyle To the man who loves art for its own sake remarked Sherlock Holmes tossing aside the advertisement sheet of the Daily Telegraph it is frequently in its least important and lowliest manifestations that the keenest pleasure is to be derived It is pleasant to me to\n",
      "==================================================\n",
      "\n",
      "=== Debug: File 'cree.txt' Content (First 300 characters) ===\n",
      "THE CREEPING MAN Arthur Conan Doyle Mr Sherlock Holmes was always of opinion that I should publish the singular facts connected with Professor Presbury if only to dispel once for all the ugly rumours which some twenty years ago agitated the university and were echoed in the learned societies of Lond\n",
      "==================================================\n",
      "\n",
      "=== Debug: File 'croo.txt' Content (First 300 characters) ===\n",
      "One summer night a few months after my marriage I was seated by my own hearth smoking a last pipe and nodding over a novel for my days work had been an exhausting one My wife had already gone upstairs and the sound of the locking of the hall door some time before told me that the servants had also r\n",
      "==================================================\n",
      "\n",
      "=== Debug: File 'danc.txt' Content (First 300 characters) ===\n",
      "THE DANCING MEN Arthur Conan Doyle Holmes had been seated for some hours in silence with his long thin back curved over a chemical vessel in which he was brewing a particularly malodorous product His head was sunk upon his breast and he looked from my point of view like a strange lank bird with dull\n",
      "==================================================\n",
      "\n",
      "=== Debug: File 'devi.txt' Content (First 300 characters) ===\n",
      "THE DEVILS FOOT Arthur Conan Doyle In recording from time to time some of the curious experiences and interesting recollections which I associate with my long and intimate friendship with Mr Sherlock Holmes I have continually been faced by difficulties caused by his own aversion to publicity To his \n",
      "==================================================\n",
      "\n",
      "=== Debug: File 'dyin.txt' Content (First 300 characters) ===\n",
      "THE DYING DETECTIVE Arthur Conan Doyle Mrs Hudson the landlady of Sherlock Holmes was a longsuffering woman Not only was her firstfloor flat invaded at all hours by throngs of singular and often undesirable characters but her remarkable lodger showed an eccentricity and irregularity in his life whic\n",
      "==================================================\n",
      "\n",
      "=== Debug: File 'empt.txt' Content (First 300 characters) ===\n",
      "THE EMPTY HOUSE Arthur Conan Doyle It was in the spring of the year 1894 that all London was interested and the fashionable world dismayed by the murder of the Honourable Ronald Adair under most unusual and inexplicable circumstances The public has already learned those particulars of the crime whic\n",
      "==================================================\n",
      "\n",
      "=== Debug: File 'engr.txt' Content (First 300 characters) ===\n",
      "THE ENGINEERS THUMB Arthur Conan Doyle Of all the problems which have been submitted to my friend Mr Sherlock Holmes for solution during the years of our intimacy there were only two which I was the means of introducing to his noticethat of Mr Hatherleys thumb and that of Colonel Warburtons madness \n",
      "==================================================\n",
      "\n",
      "=== Debug: File 'fina.txt' Content (First 300 characters) ===\n",
      "It is with a heavy heart that I take up my pen to write these the last words in which I shall ever record the singular gifts by which my friend Mr Sherlock Holmes was distinguished In an incoherent and as I deeply feel an entirely inadequate fashion I have endeavored to give some account of my stran\n",
      "==================================================\n",
      "\n",
      "=== Debug: File 'five.txt' Content (First 300 characters) ===\n",
      "When I glance over my notes and records of the Sherlock Holmes cases between the years 82 and 90 I am faced by so many which present strange and interesting features that it is no easy matter to know which to choose and which to leave Some however have already gained publicity through the papers and\n",
      "==================================================\n",
      "\n",
      "=== Debug: File 'glor.txt' Content (First 300 characters) ===\n",
      "I have some papers here said my friend Sherlock Holmes as we sat one winters night on either side of the fire which I really think Watson that it would be worth your while to glance over These are the documents in the extraordinary case of the Gloria Scott and this is the message which struck Justic\n",
      "==================================================\n",
      "\n",
      "=== Debug: File 'gold.txt' Content (First 300 characters) ===\n",
      "THE GOLDEN PINCENEZ Arthur Conan Doyle When I look at the three massive manuscript volumes which contain our work for the year 1894 I confess that it is very difficult for me out of such a wealth of material to select the cases which are most interesting in themselves and at the same time most condu\n",
      "==================================================\n",
      "\n",
      "=== Debug: File 'gree.txt' Content (First 300 characters) ===\n",
      "During my long and intimate acquaintance with Mr Sherlock Holmes I had never heard him refer to his relations and hardly ever to his own early life This reticence upon his part had increased the somewhat inhuman effect which he produced upon me until sometimes I found myself regarding him as an isol\n",
      "==================================================\n",
      "\n",
      "=== Debug: File 'houn.txt' Content (First 300 characters) ===\n",
      "Table of contents Mr Sherlock Holmes The Curse of the Baskervilles The Problem Sir Henry Baskerville Three Broken Threads Baskerville Hall The Stapletons of Merripit House First Report of Dr Watson Second Report of Dr Watson Extract from the Diary of Dr Watson The Man on the Tor Death on the Moor Fi\n",
      "==================================================\n",
      "\n",
      "=== Debug: File 'iden.txt' Content (First 300 characters) ===\n",
      "My dear fellow said Sherlock Holmes as we sat on either side of the fire in his lodgings at Baker Street life is infinitely stranger than anything which the mind of man could invent We would not dare to conceive the things which are really mere commonplaces of existence If we could fly out of that w\n",
      "==================================================\n",
      "\n",
      "=== Debug: File 'illu.txt' Content (First 300 characters) ===\n",
      "It cant hurt now was Mr Sherlock Holmess comment when for the tenth time in as many years I asked his leave to reveal the following narrative So it was that at last I obtained permission to put on record what was in some ways the supreme moment of my friends career Both Holmes and I had a weakness f\n",
      "==================================================\n",
      "\n",
      "=== Debug: File 'lady.txt' Content (First 300 characters) ===\n",
      "But why Turkish asked Mr Sherlock Holmes gazing fixedly at my boots I was reclining in a canebacked chair at the moment and my protruded feet had attracted his everactive attention English I answered in some surprise I got them at Latimers in Oxford Street Holmes smiled with an expression of weary p\n",
      "==================================================\n",
      "\n",
      "=== Debug: File 'last.txt' Content (First 300 characters) ===\n",
      "It was nine oclock at night upon the second of Augustthe most terrible August in the history of the world One might have thought already that Gods curse hung heavy over a degenerate world for there was an awesome hush and a feeling of vague expectancy in the sultry and stagnant air The sun had long \n",
      "==================================================\n",
      "\n",
      "=== Debug: File 'lion.txt' Content (First 300 characters) ===\n",
      "THE LIONS MANE Arthur Conan Doyle It is a most singular thing that a problem which was certainly as abstruse and unusual as any which I have faced in my long professional career should have come to me after my retirement and be brought as it were to my very door It occurred after my withdrawal to my\n",
      "==================================================\n",
      "\n",
      "=== Debug: File 'lstb.txt' Content (First 300 characters) ===\n",
      "Table of contents Preface The Adventure of Wisteria Lodge The Adventure of the Cardboard Box The Adventure of the Red Circle The Adventure of the BrucePartington Plans The Adventure of the Dying Detective The Disappearance of Lady Frances Carfax The Adventure of the Devils Foot His Last Bow PREFACE \n",
      "==================================================\n",
      "\n",
      "=== Debug: File 'maza.txt' Content (First 300 characters) ===\n",
      "THE MAZARIN STONE Arthur Conan Doyle It was pleasant to Dr Watson to find himself once more in the untidy room of the first floor in Baker Street which had been the startingpoint of so many remarkable adventures He looked round him at the scientific charts upon the wall the acidcharred bench of chem\n",
      "==================================================\n",
      "\n",
      "=== Debug: File 'mems.txt' Content (First 300 characters) ===\n",
      "Table of contents Silver Blaze The Yellow Face The StockBrokers Clerk The Gloria Scott The Musgrave Ritual The Reigate Squires The Crooked Man The Resident Patient The Greek Interpreter The Naval Treaty The Final Problem SILVER BLAZE I am afraid Watson that I shall have to go said Holmes as we sat d\n",
      "==================================================\n",
      "\n",
      "=== Debug: File 'miss.txt' Content (First 300 characters) ===\n",
      "THE MISSING THREEQUARTER Arthur Conan Doyle We were fairly accustomed to receive weird telegrams at Baker Street but I have a particular recollection of one which reached us on a gloomy February morning some seven or eight years ago and gave Mr Sherlock Holmes a puzzled quarter of an hour It was add\n",
      "==================================================\n",
      "\n",
      "=== Debug: File 'musg.txt' Content (First 300 characters) ===\n",
      "An anomaly which often struck me in the character of my friend Sherlock Holmes was that although in his methods of thought he was the neatest and most methodical of mankind and although also he affected a certain quiet primness of dress he was none the less in his personal habits one of the most unt\n",
      "==================================================\n",
      "\n",
      "=== Debug: File 'nava.txt' Content (First 300 characters) ===\n",
      "The July which immediately succeeded my marriage was made memorable by three cases of interest in which I had the privilege of being associated with Sherlock Holmes and of studying his methods I find them recorded in my notes under the headings of The Adventure of the Second Stain The Adventure of t\n",
      "==================================================\n",
      "\n",
      "=== Debug: File 'nobl.txt' Content (First 300 characters) ===\n",
      "THE NOBLE BACHELOR Arthur Conan Doyle The Lord St Simon marriage and its curious termination have long ceased to be a subject of interest in those exalted circles in which the unfortunate bridegroom moves Fresh scandals have eclipsed it and their more piquant details have drawn the gossips away from\n",
      "==================================================\n",
      "\n",
      "=== Debug: File 'norw.txt' Content (First 300 characters) ===\n",
      "THE NORWOOD BUILDER Arthur Conan Doyle From the point of view of the criminal expert said Mr Sherlock Holmes London has become a singularly uninteresting city since the death of the late lamented Professor Moriarty I can hardly think that you would find many decent citizens to agree with you I answe\n",
      "==================================================\n",
      "\n",
      "=== Debug: File 'prio.txt' Content (First 300 characters) ===\n",
      "THE PRIORY SCHOOL Arthur Conan Doyle We have had some dramatic entrances and exits upon our small stage at Baker Street but I cannot recollect anything more sudden and startling than the first appearance of Thorneycroft Huxtable MA PhD etc His card which seemed too small to carry the weight of his a\n",
      "==================================================\n",
      "\n",
      "=== Debug: File 'redc.txt' Content (First 300 characters) ===\n",
      "THE RED CIRCLE Arthur Conan Doyle Table of contents Part One Part Two CHAPTER I Part One Well Mrs Warren I cannot see that you have any particular cause for uneasiness nor do I understand why I whose time is of some value should interfere in the matter I really have other things to engage me So spok\n",
      "==================================================\n",
      "\n",
      "=== Debug: File 'redh.txt' Content (First 300 characters) ===\n",
      "I had called upon my friend Mr Sherlock Holmes one day in the autumn of last year and found him in deep conversation with a very stout floridfaced elderly gentleman with fiery red hair With an apology for my intrusion I was about to withdraw when Holmes pulled me abruptly into the room and closed th\n",
      "==================================================\n",
      "\n",
      "=== Debug: File 'reig.txt' Content (First 300 characters) ===\n",
      "It was some time before the health of my friend Mr Sherlock Holmes recovered from the strain caused by his immense exertions in the spring of 87 The whole question of the NetherlandSumatra Company and of the colossal schemes of Baron Maupertuis are too recent in the minds of the public and are too i\n",
      "==================================================\n",
      "\n",
      "=== Debug: File 'resi.txt' Content (First 300 characters) ===\n",
      "Glancing over the somewhat incoherent series of Memoirs with which I have endeavored to illustrate a few of the mental peculiarities of my friend Mr Sherlock Holmes I have been struck by the difficulty which I have experienced in picking out examples which shall in every way answer my purpose For in\n",
      "==================================================\n",
      "\n",
      "=== Debug: File 'reti.txt' Content (First 300 characters) ===\n",
      "THE RETIRED COLOURMAN Arthur Conan Doyle Sherlock Holmes was in a melancholy and philosophic mood that morning His alert practical nature was subject to such reactions Did you see him he asked You mean the old fellow who has just gone out Precisely Yes I met him at the door What did you think of him\n",
      "==================================================\n",
      "\n",
      "=== Debug: File 'retn.txt' Content (First 300 characters) ===\n",
      "Table of contents The Adventure of the Empty House The Adventure of the Norwood Builder The Adventure of the Dancing Men The Adventure of the Solitary Cyclist The Adventure of the Priory School The Adventure of Black Peter The Adventure of Charles Augustus Milverton The Adventure of the Six Napoleon\n",
      "==================================================\n",
      "\n",
      "=== Debug: File 'scan.txt' Content (First 300 characters) ===\n",
      "Table of contents Chapter 1 Chapter 2 Chapter 3 CHAPTER I To Sherlock Holmes she is always the woman I have seldom heard him mention her under any other name In his eyes she eclipses and predominates the whole of her sex It was not that he felt any emotion akin to love for Irene Adler All emotions a\n",
      "==================================================\n",
      "\n",
      "=== Debug: File 'seco.txt' Content (First 300 characters) ===\n",
      "THE SECOND STAIN Arthur Conan Doyle I had intended The Adventure of the Abbey Grange to be the last of those exploits of my friend Mr Sherlock Holmes which I should ever communicate to the public This resolution of mine was not due to any lack of material since I have notes of many hundreds of cases\n",
      "==================================================\n",
      "\n",
      "=== Debug: File 'shos.txt' Content (First 300 characters) ===\n",
      "SHOSCOMBE OLD PLACE Arthur Conan Doyle Sherlock Holmes had been bending for a long time over a lowpower microscope Now he straightened himself up and looked round at me in triumph It is glue Watson said he Unquestionably it is glue Have a look at these scattered objects in the field I stooped to the\n",
      "==================================================\n",
      "\n",
      "=== Debug: File 'sign.txt' Content (First 300 characters) ===\n",
      "Table of contents The Science of Deduction The Statement of the Case In Quest of a Solution The Story of the BaldHeaded Man The Tragedy of Pondicherry Lodge Sherlock Holmes Gives a Demonstration The Episode of the Barrel The Baker Street Irregulars A Break in the Chain The End of the Islander The Gr\n",
      "==================================================\n",
      "\n",
      "=== Debug: File 'silv.txt' Content (First 300 characters) ===\n",
      "I am afraid Watson that I shall have to go said Holmes as we sat down together to our breakfast one morning Go Where to To Dartmoor to Kings Pyland I was not surprised Indeed my only wonder was that he had not already been mixed up in this extraordinary case which was the one topic of conversation t\n",
      "==================================================\n",
      "\n",
      "=== Debug: File 'sixn.txt' Content (First 300 characters) ===\n",
      "THE SIX NAPOLEONS Arthur Conan Doyle It was no very unusual thing for Mr Lestrade of Scotland Yard to look in upon us of an evening and his visits were welcome to Sherlock Holmes for they enabled him to keep in touch with all that was going on at the police headquarters In return for the news which \n",
      "==================================================\n",
      "\n",
      "=== Debug: File 'soli.txt' Content (First 300 characters) ===\n",
      "THE SOLITARY CYCLIST Arthur Conan Doyle From the years 1894 to 1901 inclusive Mr Sherlock Holmes was a very busy man It is safe to say that there was no public case of any difficulty in which he was not consulted during those eight years and there were hundreds of private cases some of them of the m\n",
      "==================================================\n",
      "\n",
      "=== Debug: File 'spec.txt' Content (First 300 characters) ===\n",
      "THE SPECKLED BAND Arthur Conan Doyle On glancing over my notes of the seventy odd cases in which I have during the last eight years studied the methods of my friend Sherlock Holmes I find many tragic some comic a large number merely strange but none commonplace for working as he did rather for the l\n",
      "==================================================\n",
      "\n",
      "=== Debug: File 'stoc.txt' Content (First 300 characters) ===\n",
      "Shortly after my marriage I had bought a connection in the Paddington district Old Mr Farquhar from whom I purchased it had at one time an excellent general practice but his age and an affliction of the nature of St Vituss dance from which he suffered had very much thinned it The public not unnatura\n",
      "==================================================\n",
      "\n",
      "=== Debug: File 'stud.txt' Content (First 300 characters) ===\n",
      "Table of contents Part I Mr Sherlock Holmes The Science Of Deduction The Lauriston Garden Mystery What John Rance Had To Tell Our Advertisement Brings A Visitor Tobias Gregson Shows What He Can Do Light In The Darkness Part II On The Great Alkali Plain The Flower Of Utah John Ferrier Talks With The \n",
      "==================================================\n",
      "\n",
      "=== Debug: File 'suss.txt' Content (First 300 characters) ===\n",
      "THE SUSSEX VAMPIRE Arthur Conan Doyle Holmes had read carefully a note which the last post had brought him Then with the dry chuckle which was his nearest approach to a laugh he tossed it over to me For a mixture of the modern and the mediaeval of the practical and of the wildly fanciful I think thi\n",
      "==================================================\n",
      "\n",
      "=== Debug: File 'thor.txt' Content (First 300 characters) ===\n",
      "Somewhere in the vaults of the bank of Cox and Co at Charing Cross there is a travelworn and battered tin dispatchbox with my name John H Watson MD Late Indian Army painted upon the lid It is crammed with papers nearly all of which are records of cases to illustrate the curious problems which Mr She\n",
      "==================================================\n",
      "\n",
      "=== Debug: File 'twis.txt' Content (First 300 characters) ===\n",
      "Isa Whitney brother of the late Elias Whitney DD Principal of the Theological College of St Georges was much addicted to opium The habit grew upon him as I understand from some foolish freak when he was at college for having read De Quinceys description of his dreams and sensations he had drenched h\n",
      "==================================================\n",
      "\n",
      "=== Debug: File 'vall.txt' Content (First 300 characters) ===\n",
      "Table of contents Part I The Warning Sherlock Holmes Discourses The Tragedy of Birlstone Darkness The People Of the Drama A Dawning Light The Solution Part II The Man The Bodymaster Lodge 341 Vermissa The Valley of Fear The Darkest Hour Danger The Trapping of Birdy Edwards Epilogue PART I The Traged\n",
      "==================================================\n",
      "\n",
      "=== Debug: File 'veil.txt' Content (First 300 characters) ===\n",
      "THE VEILED LODGER Arthur Conan Doyle When one considers that Mr Sherlock Holmes was in active practice for twentythree years and that during seventeen of these I was allowed to cooperate with him and to keep notes of his doings it will be clear that I have a mass of material at my command The proble\n",
      "==================================================\n",
      "\n",
      "=== Debug: File 'wist.txt' Content (First 300 characters) ===\n",
      "WISTERIA LODGE Arthur Conan Doyle Table of contents The Singular Experience of Mr John Scott Eccles The Tiger of San Pedro CHAPTER I The Singular Experience of Mr John Scott Eccles I find it recorded in my notebook that it was a bleak and windy day towards the end of March in the year 1892 Holmes ha\n",
      "==================================================\n",
      "\n",
      "=== Debug: File 'yell.txt' Content (First 300 characters) ===\n",
      "In publishing these short sketches based upon the numerous cases in which my companions singular gifts have made us the listeners to and eventually the actors in some strange drama it is only natural that I should dwell rather upon his successes than upon his failures And this not so much for the sa\n",
      "==================================================\n"
     ]
    }
   ],
   "source": [
    "# Debugging the contents of files before splitting into paragraphs\n",
    "for file_name in os.listdir(cleaned_folder_path):  # Using the correct variable\n",
    "    file_path = os.path.join(cleaned_folder_path, file_name)\n",
    "    if os.path.isfile(file_path):\n",
    "        with open(file_path, 'r', encoding='utf-8') as file:\n",
    "            text = file.read()\n",
    "        \n",
    "        # Displaying the first 300 characters from the file\n",
    "        print(f\"\\n=== Debug: File '{file_name}' Content (First 300 characters) ===\")\n",
    "        print(text[:300])  \n",
    "        print(\"=\" * 50)\n"
   ]
  },
  {
   "cell_type": "code",
   "execution_count": 8,
   "id": "13026783",
   "metadata": {
    "scrolled": false
   },
   "outputs": [
    {
     "data": {
      "application/vnd.jupyter.widget-view+json": {
       "model_id": "9dca3da168a84a959f4141a047400c1d",
       "version_major": 2,
       "version_minor": 0
      },
      "text/plain": [
       "Batches:   0%|          | 0/1 [00:00<?, ?it/s]"
      ]
     },
     "metadata": {},
     "output_type": "display_data"
    },
    {
     "data": {
      "application/vnd.jupyter.widget-view+json": {
       "model_id": "ed810397e9704198b45879d11e106d9c",
       "version_major": 2,
       "version_minor": 0
      },
      "text/plain": [
       "Batches:   0%|          | 0/1 [00:00<?, ?it/s]"
      ]
     },
     "metadata": {},
     "output_type": "display_data"
    },
    {
     "data": {
      "application/vnd.jupyter.widget-view+json": {
       "model_id": "5c8f3aaf451641a78cd10771b61f5e91",
       "version_major": 2,
       "version_minor": 0
      },
      "text/plain": [
       "Batches:   0%|          | 0/1 [00:00<?, ?it/s]"
      ]
     },
     "metadata": {},
     "output_type": "display_data"
    },
    {
     "data": {
      "application/vnd.jupyter.widget-view+json": {
       "model_id": "26f1d2955f5449dca92a66fae870f9b2",
       "version_major": 2,
       "version_minor": 0
      },
      "text/plain": [
       "Batches:   0%|          | 0/1 [00:00<?, ?it/s]"
      ]
     },
     "metadata": {},
     "output_type": "display_data"
    },
    {
     "data": {
      "application/vnd.jupyter.widget-view+json": {
       "model_id": "5f569e91e0d549789460c2397798da5e",
       "version_major": 2,
       "version_minor": 0
      },
      "text/plain": [
       "Batches:   0%|          | 0/1 [00:00<?, ?it/s]"
      ]
     },
     "metadata": {},
     "output_type": "display_data"
    },
    {
     "data": {
      "application/vnd.jupyter.widget-view+json": {
       "model_id": "bb61305f9194489781a9a1e6af8e74a8",
       "version_major": 2,
       "version_minor": 0
      },
      "text/plain": [
       "Batches:   0%|          | 0/1 [00:00<?, ?it/s]"
      ]
     },
     "metadata": {},
     "output_type": "display_data"
    },
    {
     "data": {
      "application/vnd.jupyter.widget-view+json": {
       "model_id": "e53a8e4d9c0f47d7b7e48825c600c1b5",
       "version_major": 2,
       "version_minor": 0
      },
      "text/plain": [
       "Batches:   0%|          | 0/1 [00:00<?, ?it/s]"
      ]
     },
     "metadata": {},
     "output_type": "display_data"
    },
    {
     "data": {
      "application/vnd.jupyter.widget-view+json": {
       "model_id": "259267066fa44478916a4d0621d84210",
       "version_major": 2,
       "version_minor": 0
      },
      "text/plain": [
       "Batches:   0%|          | 0/1 [00:00<?, ?it/s]"
      ]
     },
     "metadata": {},
     "output_type": "display_data"
    },
    {
     "data": {
      "application/vnd.jupyter.widget-view+json": {
       "model_id": "3a8eaeb97bcf4ba98c2586aae1a11d35",
       "version_major": 2,
       "version_minor": 0
      },
      "text/plain": [
       "Batches:   0%|          | 0/1 [00:00<?, ?it/s]"
      ]
     },
     "metadata": {},
     "output_type": "display_data"
    },
    {
     "data": {
      "application/vnd.jupyter.widget-view+json": {
       "model_id": "95ac2f7b540c4ebe9828a469b83ac103",
       "version_major": 2,
       "version_minor": 0
      },
      "text/plain": [
       "Batches:   0%|          | 0/1 [00:00<?, ?it/s]"
      ]
     },
     "metadata": {},
     "output_type": "display_data"
    },
    {
     "data": {
      "application/vnd.jupyter.widget-view+json": {
       "model_id": "729e6c73886b423093ff1866d39a17b7",
       "version_major": 2,
       "version_minor": 0
      },
      "text/plain": [
       "Batches:   0%|          | 0/1 [00:00<?, ?it/s]"
      ]
     },
     "metadata": {},
     "output_type": "display_data"
    },
    {
     "data": {
      "application/vnd.jupyter.widget-view+json": {
       "model_id": "6e32ceabc1f74156954810d44783caa9",
       "version_major": 2,
       "version_minor": 0
      },
      "text/plain": [
       "Batches:   0%|          | 0/1 [00:00<?, ?it/s]"
      ]
     },
     "metadata": {},
     "output_type": "display_data"
    },
    {
     "data": {
      "application/vnd.jupyter.widget-view+json": {
       "model_id": "aa905e6851364290bea5e106a6468bf0",
       "version_major": 2,
       "version_minor": 0
      },
      "text/plain": [
       "Batches:   0%|          | 0/1 [00:00<?, ?it/s]"
      ]
     },
     "metadata": {},
     "output_type": "display_data"
    },
    {
     "data": {
      "application/vnd.jupyter.widget-view+json": {
       "model_id": "793bf6a38efb42578d4a9dc9c56bf9f4",
       "version_major": 2,
       "version_minor": 0
      },
      "text/plain": [
       "Batches:   0%|          | 0/1 [00:00<?, ?it/s]"
      ]
     },
     "metadata": {},
     "output_type": "display_data"
    },
    {
     "data": {
      "application/vnd.jupyter.widget-view+json": {
       "model_id": "e055985e713c4dacb05c6b3b78793efb",
       "version_major": 2,
       "version_minor": 0
      },
      "text/plain": [
       "Batches:   0%|          | 0/1 [00:00<?, ?it/s]"
      ]
     },
     "metadata": {},
     "output_type": "display_data"
    },
    {
     "data": {
      "application/vnd.jupyter.widget-view+json": {
       "model_id": "787db0c1b4de4d74bf6bcf42fac02e8a",
       "version_major": 2,
       "version_minor": 0
      },
      "text/plain": [
       "Batches:   0%|          | 0/1 [00:00<?, ?it/s]"
      ]
     },
     "metadata": {},
     "output_type": "display_data"
    },
    {
     "data": {
      "application/vnd.jupyter.widget-view+json": {
       "model_id": "a983613d5d9b4b73805ded39dafc2f8c",
       "version_major": 2,
       "version_minor": 0
      },
      "text/plain": [
       "Batches:   0%|          | 0/1 [00:00<?, ?it/s]"
      ]
     },
     "metadata": {},
     "output_type": "display_data"
    },
    {
     "data": {
      "application/vnd.jupyter.widget-view+json": {
       "model_id": "5a69b99d586a4aedba8ed2d14d57cd0c",
       "version_major": 2,
       "version_minor": 0
      },
      "text/plain": [
       "Batches:   0%|          | 0/1 [00:00<?, ?it/s]"
      ]
     },
     "metadata": {},
     "output_type": "display_data"
    },
    {
     "data": {
      "application/vnd.jupyter.widget-view+json": {
       "model_id": "1a2ba01bfb2141d98fabae12ab515fe2",
       "version_major": 2,
       "version_minor": 0
      },
      "text/plain": [
       "Batches:   0%|          | 0/1 [00:00<?, ?it/s]"
      ]
     },
     "metadata": {},
     "output_type": "display_data"
    },
    {
     "data": {
      "application/vnd.jupyter.widget-view+json": {
       "model_id": "65253c11ffdb4d84ad3d23f953c95977",
       "version_major": 2,
       "version_minor": 0
      },
      "text/plain": [
       "Batches:   0%|          | 0/1 [00:00<?, ?it/s]"
      ]
     },
     "metadata": {},
     "output_type": "display_data"
    },
    {
     "data": {
      "application/vnd.jupyter.widget-view+json": {
       "model_id": "84a9b7eb1c444899be51a455079fdf4f",
       "version_major": 2,
       "version_minor": 0
      },
      "text/plain": [
       "Batches:   0%|          | 0/1 [00:00<?, ?it/s]"
      ]
     },
     "metadata": {},
     "output_type": "display_data"
    },
    {
     "data": {
      "application/vnd.jupyter.widget-view+json": {
       "model_id": "dc86bf8a5e4e4485ae5a2ab3a8288217",
       "version_major": 2,
       "version_minor": 0
      },
      "text/plain": [
       "Batches:   0%|          | 0/1 [00:00<?, ?it/s]"
      ]
     },
     "metadata": {},
     "output_type": "display_data"
    },
    {
     "data": {
      "application/vnd.jupyter.widget-view+json": {
       "model_id": "f162c70afe6d4d2b89f4bb2ce3721ccf",
       "version_major": 2,
       "version_minor": 0
      },
      "text/plain": [
       "Batches:   0%|          | 0/1 [00:00<?, ?it/s]"
      ]
     },
     "metadata": {},
     "output_type": "display_data"
    },
    {
     "data": {
      "application/vnd.jupyter.widget-view+json": {
       "model_id": "120db327ed7f44ac8baca1fa6d01d466",
       "version_major": 2,
       "version_minor": 0
      },
      "text/plain": [
       "Batches:   0%|          | 0/1 [00:00<?, ?it/s]"
      ]
     },
     "metadata": {},
     "output_type": "display_data"
    },
    {
     "data": {
      "application/vnd.jupyter.widget-view+json": {
       "model_id": "e505384e5dbc4ebf9733acbe03fa614b",
       "version_major": 2,
       "version_minor": 0
      },
      "text/plain": [
       "Batches:   0%|          | 0/1 [00:00<?, ?it/s]"
      ]
     },
     "metadata": {},
     "output_type": "display_data"
    },
    {
     "data": {
      "application/vnd.jupyter.widget-view+json": {
       "model_id": "a5f7ca1ce37b426cbfbc8e69500103c0",
       "version_major": 2,
       "version_minor": 0
      },
      "text/plain": [
       "Batches:   0%|          | 0/1 [00:00<?, ?it/s]"
      ]
     },
     "metadata": {},
     "output_type": "display_data"
    },
    {
     "data": {
      "application/vnd.jupyter.widget-view+json": {
       "model_id": "b25ef02a60794fdc8a68163601135b16",
       "version_major": 2,
       "version_minor": 0
      },
      "text/plain": [
       "Batches:   0%|          | 0/1 [00:00<?, ?it/s]"
      ]
     },
     "metadata": {},
     "output_type": "display_data"
    },
    {
     "data": {
      "application/vnd.jupyter.widget-view+json": {
       "model_id": "52c5479670b74604829ae137228a2ddf",
       "version_major": 2,
       "version_minor": 0
      },
      "text/plain": [
       "Batches:   0%|          | 0/1 [00:00<?, ?it/s]"
      ]
     },
     "metadata": {},
     "output_type": "display_data"
    },
    {
     "data": {
      "application/vnd.jupyter.widget-view+json": {
       "model_id": "a8711c4e80b14eb5bfbc6a5efa962ee0",
       "version_major": 2,
       "version_minor": 0
      },
      "text/plain": [
       "Batches:   0%|          | 0/1 [00:00<?, ?it/s]"
      ]
     },
     "metadata": {},
     "output_type": "display_data"
    },
    {
     "data": {
      "application/vnd.jupyter.widget-view+json": {
       "model_id": "c95b2ef2049b48c59e4735c27b70bcd4",
       "version_major": 2,
       "version_minor": 0
      },
      "text/plain": [
       "Batches:   0%|          | 0/1 [00:00<?, ?it/s]"
      ]
     },
     "metadata": {},
     "output_type": "display_data"
    },
    {
     "data": {
      "application/vnd.jupyter.widget-view+json": {
       "model_id": "5c5b8215ffa6419fb7ac74129e024463",
       "version_major": 2,
       "version_minor": 0
      },
      "text/plain": [
       "Batches:   0%|          | 0/1 [00:00<?, ?it/s]"
      ]
     },
     "metadata": {},
     "output_type": "display_data"
    },
    {
     "data": {
      "application/vnd.jupyter.widget-view+json": {
       "model_id": "62c4a320f29a4d7882aa01e73ff6e62e",
       "version_major": 2,
       "version_minor": 0
      },
      "text/plain": [
       "Batches:   0%|          | 0/1 [00:00<?, ?it/s]"
      ]
     },
     "metadata": {},
     "output_type": "display_data"
    },
    {
     "data": {
      "application/vnd.jupyter.widget-view+json": {
       "model_id": "49f11433b30745148ae3bfbf659223ed",
       "version_major": 2,
       "version_minor": 0
      },
      "text/plain": [
       "Batches:   0%|          | 0/1 [00:00<?, ?it/s]"
      ]
     },
     "metadata": {},
     "output_type": "display_data"
    },
    {
     "data": {
      "application/vnd.jupyter.widget-view+json": {
       "model_id": "5e8d35ce324a4321a2b4fb62274de93d",
       "version_major": 2,
       "version_minor": 0
      },
      "text/plain": [
       "Batches:   0%|          | 0/1 [00:00<?, ?it/s]"
      ]
     },
     "metadata": {},
     "output_type": "display_data"
    },
    {
     "data": {
      "application/vnd.jupyter.widget-view+json": {
       "model_id": "32d75d6d7a1a481c8b980d236b185dc9",
       "version_major": 2,
       "version_minor": 0
      },
      "text/plain": [
       "Batches:   0%|          | 0/1 [00:00<?, ?it/s]"
      ]
     },
     "metadata": {},
     "output_type": "display_data"
    },
    {
     "data": {
      "application/vnd.jupyter.widget-view+json": {
       "model_id": "ed89771ca7fe41698fe5b15e5f71dedd",
       "version_major": 2,
       "version_minor": 0
      },
      "text/plain": [
       "Batches:   0%|          | 0/1 [00:00<?, ?it/s]"
      ]
     },
     "metadata": {},
     "output_type": "display_data"
    },
    {
     "data": {
      "application/vnd.jupyter.widget-view+json": {
       "model_id": "692fe9a18cef4586b9a86b6f3b1dfbc6",
       "version_major": 2,
       "version_minor": 0
      },
      "text/plain": [
       "Batches:   0%|          | 0/1 [00:00<?, ?it/s]"
      ]
     },
     "metadata": {},
     "output_type": "display_data"
    },
    {
     "data": {
      "application/vnd.jupyter.widget-view+json": {
       "model_id": "e9d80c3424a043d3a65ce80934de194b",
       "version_major": 2,
       "version_minor": 0
      },
      "text/plain": [
       "Batches:   0%|          | 0/1 [00:00<?, ?it/s]"
      ]
     },
     "metadata": {},
     "output_type": "display_data"
    },
    {
     "data": {
      "application/vnd.jupyter.widget-view+json": {
       "model_id": "35193f16aff54c608d195a95cf2433c3",
       "version_major": 2,
       "version_minor": 0
      },
      "text/plain": [
       "Batches:   0%|          | 0/1 [00:00<?, ?it/s]"
      ]
     },
     "metadata": {},
     "output_type": "display_data"
    },
    {
     "data": {
      "application/vnd.jupyter.widget-view+json": {
       "model_id": "6984819b49c5470bb903efd573498a69",
       "version_major": 2,
       "version_minor": 0
      },
      "text/plain": [
       "Batches:   0%|          | 0/1 [00:00<?, ?it/s]"
      ]
     },
     "metadata": {},
     "output_type": "display_data"
    },
    {
     "data": {
      "application/vnd.jupyter.widget-view+json": {
       "model_id": "8dd1569c760b49ce9ee63ce93a0fdcca",
       "version_major": 2,
       "version_minor": 0
      },
      "text/plain": [
       "Batches:   0%|          | 0/1 [00:00<?, ?it/s]"
      ]
     },
     "metadata": {},
     "output_type": "display_data"
    },
    {
     "data": {
      "application/vnd.jupyter.widget-view+json": {
       "model_id": "fcc239c5e2894495b8590e2bfced9b36",
       "version_major": 2,
       "version_minor": 0
      },
      "text/plain": [
       "Batches:   0%|          | 0/1 [00:00<?, ?it/s]"
      ]
     },
     "metadata": {},
     "output_type": "display_data"
    },
    {
     "data": {
      "application/vnd.jupyter.widget-view+json": {
       "model_id": "5c195d9f2f604d0a86e1c10bb8b49238",
       "version_major": 2,
       "version_minor": 0
      },
      "text/plain": [
       "Batches:   0%|          | 0/1 [00:00<?, ?it/s]"
      ]
     },
     "metadata": {},
     "output_type": "display_data"
    },
    {
     "data": {
      "application/vnd.jupyter.widget-view+json": {
       "model_id": "477fe5f20aa64700830d748d91856acd",
       "version_major": 2,
       "version_minor": 0
      },
      "text/plain": [
       "Batches:   0%|          | 0/1 [00:00<?, ?it/s]"
      ]
     },
     "metadata": {},
     "output_type": "display_data"
    },
    {
     "data": {
      "application/vnd.jupyter.widget-view+json": {
       "model_id": "8a72ee68ceef4e1ab8fac46027e69d33",
       "version_major": 2,
       "version_minor": 0
      },
      "text/plain": [
       "Batches:   0%|          | 0/1 [00:00<?, ?it/s]"
      ]
     },
     "metadata": {},
     "output_type": "display_data"
    },
    {
     "data": {
      "application/vnd.jupyter.widget-view+json": {
       "model_id": "93e028a7672d4de8b0dac3519e2684b8",
       "version_major": 2,
       "version_minor": 0
      },
      "text/plain": [
       "Batches:   0%|          | 0/1 [00:00<?, ?it/s]"
      ]
     },
     "metadata": {},
     "output_type": "display_data"
    },
    {
     "data": {
      "application/vnd.jupyter.widget-view+json": {
       "model_id": "0a725a510979470b904528c5dc343ec5",
       "version_major": 2,
       "version_minor": 0
      },
      "text/plain": [
       "Batches:   0%|          | 0/1 [00:00<?, ?it/s]"
      ]
     },
     "metadata": {},
     "output_type": "display_data"
    },
    {
     "data": {
      "application/vnd.jupyter.widget-view+json": {
       "model_id": "689e486c88d34356b452745da6486521",
       "version_major": 2,
       "version_minor": 0
      },
      "text/plain": [
       "Batches:   0%|          | 0/1 [00:00<?, ?it/s]"
      ]
     },
     "metadata": {},
     "output_type": "display_data"
    },
    {
     "data": {
      "application/vnd.jupyter.widget-view+json": {
       "model_id": "37600ce759024ce0ad45a3eac3d72e47",
       "version_major": 2,
       "version_minor": 0
      },
      "text/plain": [
       "Batches:   0%|          | 0/1 [00:00<?, ?it/s]"
      ]
     },
     "metadata": {},
     "output_type": "display_data"
    },
    {
     "data": {
      "application/vnd.jupyter.widget-view+json": {
       "model_id": "ff163095fa9e479dbeeca6befaeb4cca",
       "version_major": 2,
       "version_minor": 0
      },
      "text/plain": [
       "Batches:   0%|          | 0/1 [00:00<?, ?it/s]"
      ]
     },
     "metadata": {},
     "output_type": "display_data"
    },
    {
     "data": {
      "application/vnd.jupyter.widget-view+json": {
       "model_id": "255e5d849d804d558ed658be5ff256a5",
       "version_major": 2,
       "version_minor": 0
      },
      "text/plain": [
       "Batches:   0%|          | 0/1 [00:00<?, ?it/s]"
      ]
     },
     "metadata": {},
     "output_type": "display_data"
    },
    {
     "data": {
      "application/vnd.jupyter.widget-view+json": {
       "model_id": "3edc4c69716949d9b8ad41f5b6beac27",
       "version_major": 2,
       "version_minor": 0
      },
      "text/plain": [
       "Batches:   0%|          | 0/1 [00:00<?, ?it/s]"
      ]
     },
     "metadata": {},
     "output_type": "display_data"
    },
    {
     "data": {
      "application/vnd.jupyter.widget-view+json": {
       "model_id": "7ce04ceaa7ed4f00aa3d67e0d1376040",
       "version_major": 2,
       "version_minor": 0
      },
      "text/plain": [
       "Batches:   0%|          | 0/1 [00:00<?, ?it/s]"
      ]
     },
     "metadata": {},
     "output_type": "display_data"
    },
    {
     "data": {
      "application/vnd.jupyter.widget-view+json": {
       "model_id": "a54d657f41834ab8942e3363c84796ea",
       "version_major": 2,
       "version_minor": 0
      },
      "text/plain": [
       "Batches:   0%|          | 0/1 [00:00<?, ?it/s]"
      ]
     },
     "metadata": {},
     "output_type": "display_data"
    },
    {
     "data": {
      "application/vnd.jupyter.widget-view+json": {
       "model_id": "11cce25527df44268db5711bf653efc8",
       "version_major": 2,
       "version_minor": 0
      },
      "text/plain": [
       "Batches:   0%|          | 0/1 [00:00<?, ?it/s]"
      ]
     },
     "metadata": {},
     "output_type": "display_data"
    },
    {
     "data": {
      "application/vnd.jupyter.widget-view+json": {
       "model_id": "8b60c5bd6cc64afeb36a64270161c2d1",
       "version_major": 2,
       "version_minor": 0
      },
      "text/plain": [
       "Batches:   0%|          | 0/1 [00:00<?, ?it/s]"
      ]
     },
     "metadata": {},
     "output_type": "display_data"
    },
    {
     "data": {
      "application/vnd.jupyter.widget-view+json": {
       "model_id": "4ab49b261bb9463c9453d8956b3e31ff",
       "version_major": 2,
       "version_minor": 0
      },
      "text/plain": [
       "Batches:   0%|          | 0/1 [00:00<?, ?it/s]"
      ]
     },
     "metadata": {},
     "output_type": "display_data"
    },
    {
     "data": {
      "application/vnd.jupyter.widget-view+json": {
       "model_id": "717a32cbd3f3437f958f0550bf551548",
       "version_major": 2,
       "version_minor": 0
      },
      "text/plain": [
       "Batches:   0%|          | 0/1 [00:00<?, ?it/s]"
      ]
     },
     "metadata": {},
     "output_type": "display_data"
    },
    {
     "data": {
      "application/vnd.jupyter.widget-view+json": {
       "model_id": "35dabfe77a014038b82fcea98a0d7809",
       "version_major": 2,
       "version_minor": 0
      },
      "text/plain": [
       "Batches:   0%|          | 0/1 [00:00<?, ?it/s]"
      ]
     },
     "metadata": {},
     "output_type": "display_data"
    },
    {
     "data": {
      "application/vnd.jupyter.widget-view+json": {
       "model_id": "5cca0cea57a54864a4ed9b84a0be8ed6",
       "version_major": 2,
       "version_minor": 0
      },
      "text/plain": [
       "Batches:   0%|          | 0/1 [00:00<?, ?it/s]"
      ]
     },
     "metadata": {},
     "output_type": "display_data"
    },
    {
     "data": {
      "application/vnd.jupyter.widget-view+json": {
       "model_id": "1d3d37c99f2a4a28a92ae10acc5a0eef",
       "version_major": 2,
       "version_minor": 0
      },
      "text/plain": [
       "Batches:   0%|          | 0/1 [00:00<?, ?it/s]"
      ]
     },
     "metadata": {},
     "output_type": "display_data"
    },
    {
     "data": {
      "application/vnd.jupyter.widget-view+json": {
       "model_id": "e72215a98b6342e3b1ee979ba8feb7dd",
       "version_major": 2,
       "version_minor": 0
      },
      "text/plain": [
       "Batches:   0%|          | 0/1 [00:00<?, ?it/s]"
      ]
     },
     "metadata": {},
     "output_type": "display_data"
    },
    {
     "data": {
      "application/vnd.jupyter.widget-view+json": {
       "model_id": "27273d61aee34e9ab9210865135dd6f7",
       "version_major": 2,
       "version_minor": 0
      },
      "text/plain": [
       "Batches:   0%|          | 0/1 [00:00<?, ?it/s]"
      ]
     },
     "metadata": {},
     "output_type": "display_data"
    },
    {
     "data": {
      "application/vnd.jupyter.widget-view+json": {
       "model_id": "c515e817df5440e39f7c1795dddbe6fd",
       "version_major": 2,
       "version_minor": 0
      },
      "text/plain": [
       "Batches:   0%|          | 0/1 [00:00<?, ?it/s]"
      ]
     },
     "metadata": {},
     "output_type": "display_data"
    },
    {
     "data": {
      "application/vnd.jupyter.widget-view+json": {
       "model_id": "ad7e0e352be542edbebfc3fe38fee320",
       "version_major": 2,
       "version_minor": 0
      },
      "text/plain": [
       "Batches:   0%|          | 0/1 [00:00<?, ?it/s]"
      ]
     },
     "metadata": {},
     "output_type": "display_data"
    },
    {
     "data": {
      "application/vnd.jupyter.widget-view+json": {
       "model_id": "a6e99bf89e1649a989efd6bb56718718",
       "version_major": 2,
       "version_minor": 0
      },
      "text/plain": [
       "Batches:   0%|          | 0/1 [00:00<?, ?it/s]"
      ]
     },
     "metadata": {},
     "output_type": "display_data"
    },
    {
     "data": {
      "application/vnd.jupyter.widget-view+json": {
       "model_id": "44d4ae8eb04140e1b7814e90d6f5f4da",
       "version_major": 2,
       "version_minor": 0
      },
      "text/plain": [
       "Batches:   0%|          | 0/1 [00:00<?, ?it/s]"
      ]
     },
     "metadata": {},
     "output_type": "display_data"
    },
    {
     "name": "stdout",
     "output_type": "stream",
     "text": [
      "Embeddings generated and saved to '/content/drive/My Drive/Sherlock Holmes Stories/paragraph_embeddings.json'.\n"
     ]
    }
   ],
   "source": [
    "def generate_embeddings(paragraph_folder, output_file):\n",
    "    \"\"\"\n",
    "    Generates embeddings for paragraphs in text files and saves them to a JSON file.\n",
    "    \"\"\"\n",
    "    model = SentenceTransformer('all-MiniLM-L6-v2')  # Load a pre-trained sentence transformer model\n",
    "    embeddings_dict = {}\n",
    "\n",
    "    for file_name in os.listdir(paragraph_folder):\n",
    "        file_path = os.path.join(paragraph_folder, file_name)\n",
    "        if os.path.isfile(file_path):\n",
    "            with open(file_path, 'r', encoding='utf-8') as file:\n",
    "                paragraphs = file.read().split('\\n\\n')  # Splitting text into paragraphs\n",
    "\n",
    "            # Generating embeddings for each paragraph\n",
    "            embeddings = model.encode(paragraphs, show_progress_bar=True)\n",
    "            embeddings_dict[file_name] = {\n",
    "                \"paragraphs\": paragraphs,\n",
    "                \"embeddings\": embeddings.tolist()  # Convert to list for JSON compatibility\n",
    "            }\n",
    "\n",
    "    # Saving embeddings to a JSON file\n",
    "    with open(output_file, 'w', encoding='utf-8') as json_file:\n",
    "        json.dump(embeddings_dict, json_file)\n",
    "    \n",
    "    print(f\"Embeddings generated and saved to '{output_file}'.\")\n",
    "\n",
    "# Path to paragraph-separated texts and output file for embeddings\n",
    "embeddings_output_file = \"/content/drive/My Drive/Sherlock Holmes Stories/paragraph_embeddings.json\"\n",
    "generate_embeddings(paragraph_folder_path, embeddings_output_file)"
   ]
  },
  {
   "cell_type": "code",
   "execution_count": 9,
   "id": "a6c636d7",
   "metadata": {},
   "outputs": [],
   "source": [
    "def load_embeddings(embeddings_file):\n",
    "    \"\"\"\n",
    "    Loads embeddings from a JSON file.\n",
    "    \"\"\"\n",
    "    with open(embeddings_file, 'r', encoding='utf-8') as file:\n",
    "        embeddings_dict = json.load(file)\n",
    "    return embeddings_dict\n",
    "\n",
    "def semantic_search(query, model, embeddings_dict, top_n=5):\n",
    "    \"\"\"\n",
    "    Performs semantic search to find the most similar paragraphs to a query.\n",
    "    \"\"\"\n",
    "    query_embedding = model.encode([query])  # Generate embedding for the query\n",
    "    results = []\n",
    "\n",
    "    for file_name, data in embeddings_dict.items():\n",
    "        paragraphs = data[\"paragraphs\"]\n",
    "        embeddings = np.array(data[\"embeddings\"])\n",
    "\n",
    "        # Computing cosine similarity between query and paragraph embeddings\n",
    "        similarities = cosine_similarity(query_embedding, embeddings).flatten()\n",
    "\n",
    "        # Storing results with file name, paragraph, and similarity score\n",
    "        for paragraph, similarity in zip(paragraphs, similarities):\n",
    "            results.append((file_name, paragraph, similarity))\n",
    "\n",
    "    # Sorting results by similarity score in descending order\n",
    "    results = sorted(results, key=lambda x: x[2], reverse=True)\n",
    "\n",
    "    return results[:top_n]\n",
    "\n",
    "# Loading precomputed paragraph embeddings\n",
    "embeddings_dict = load_embeddings(embeddings_output_file)"
   ]
  },
  {
   "cell_type": "code",
   "execution_count": 10,
   "id": "704fa0ab",
   "metadata": {},
   "outputs": [],
   "source": [
    "# Defining a sample query for semantic search\n",
    "query = \"detective investigations\"\n",
    "top_results = semantic_search(query, SentenceTransformer('all-MiniLM-L6-v2'), embeddings_dict)"
   ]
  },
  {
   "cell_type": "code",
   "execution_count": 11,
   "id": "4e2dbc6a",
   "metadata": {
    "scrolled": true
   },
   "outputs": [
    {
     "name": "stdout",
     "output_type": "stream",
     "text": [
      "Top 5 results for query: 'detective investigations'\n",
      "\n",
      "Result 1:\n",
      "File: five.txt\n",
      "Paragraph (first 300 chars): When I glance over my notes and records of the Sherlock Holmes cases between the years 82 and 90 I am faced by so many which present strange and interesting features that it is no easy matter to know which to choose and which to leave Some however have already gained publicity through the papers and...\n",
      "Similarity: 0.4406\n",
      "--------------------------------------------------\n",
      "Result 2:\n",
      "File: soli.txt\n",
      "Paragraph (first 300 chars): THE SOLITARY CYCLIST Arthur Conan Doyle From the years 1894 to 1901 inclusive Mr Sherlock Holmes was a very busy man It is safe to say that there was no public case of any difficulty in which he was not consulted during those eight years and there were hundreds of private cases some of them of the m...\n",
      "Similarity: 0.4191\n",
      "--------------------------------------------------\n",
      "Result 3:\n",
      "File: engr.txt\n",
      "Paragraph (first 300 chars): THE ENGINEERS THUMB Arthur Conan Doyle Of all the problems which have been submitted to my friend Mr Sherlock Holmes for solution during the years of our intimacy there were only two which I was the means of introducing to his noticethat of Mr Hatherleys thumb and that of Colonel Warburtons madness ...\n",
      "Similarity: 0.4070\n",
      "--------------------------------------------------\n",
      "Result 4:\n",
      "File: thor.txt\n",
      "Paragraph (first 300 chars): Somewhere in the vaults of the bank of Cox and Co at Charing Cross there is a travelworn and battered tin dispatchbox with my name John H Watson MD Late Indian Army painted upon the lid It is crammed with papers nearly all of which are records of cases to illustrate the curious problems which Mr She...\n",
      "Similarity: 0.3887\n",
      "--------------------------------------------------\n",
      "Result 5:\n",
      "File: spec.txt\n",
      "Paragraph (first 300 chars): THE SPECKLED BAND Arthur Conan Doyle On glancing over my notes of the seventy odd cases in which I have during the last eight years studied the methods of my friend Sherlock Holmes I find many tragic some comic a large number merely strange but none commonplace for working as he did rather for the l...\n",
      "Similarity: 0.3885\n",
      "--------------------------------------------------\n",
      "\n",
      "Enter the result number to view the full paragraph (1-5): 3\n",
      "\n",
      "--- Full Paragraph for Result 3 ---\n",
      "File: engr.txt\n",
      "Paragraph:\n",
      "THE ENGINEERS THUMB Arthur Conan Doyle Of all the problems which have been submitted to my friend Mr Sherlock Holmes for solution during the years of our intimacy there were only two which I was the means of introducing to his noticethat of Mr Hatherleys thumb and that of Colonel Warburtons madness Of these the latter may have afforded a finer field for an acute and original observer but the other was so strange in its inception and so dramatic in its details that it may be the more worthy of being placed upon record even if it gave my friend fewer openings for those deductive methods of reasoning by which he achieved such remarkable results The story has I believe been told more than once in the newspapers but like all such narratives its effect is much less striking when set forth en bloc in a single halfcolumn of print than when the facts slowly evolve before your own eyes and the mystery clears gradually away as each new discovery furnishes a step which leads on to the complete truth At the time the circumstances made a deep impression upon me and the lapse of two years has hardly served to weaken the effect It was in the summer of 89 not long after my marriage that the events occurred which I am now about to summarise I had returned to civil practice and had finally abandoned Holmes in his Baker Street rooms although I continually visited him and occasionally even persuaded him to forgo his Bohemian habits so far as to come and visit us My practice had steadily increased and as I happened to live at no very great distance from Paddington Station I got a few patients from among the officials One of these whom I had cured of a painful and lingering disease was never weary of advertising my virtues and of endeavouring to send me on every sufferer over whom he might have any influence One morning at a little before seven oclock I was awakened by the maid tapping at the door to announce that two men had come from Paddington and were waiting in the consultingroom I dressed hurriedly for I knew by experience that railway cases were seldom trivial and hastened downstairs As I descended my old ally the guard came out of the room and closed the door tightly behind him Ive got him here he whispered jerking his thumb over his shoulder hes all right What is it then I asked for his manner suggested that it was some strange creature which he had caged up in my room Its a new patient he whispered I thought Id bring him round myself then he couldnt slip away There he is all safe and sound I must go now Doctor I have my dooties just the same as you And off he went this trusty tout without even giving me time to thank him I entered my consultingroom and found a gentleman seated by the table He was quietly dressed in a suit of heather tweed with a soft cloth cap which he had laid down upon my books Round one of his hands he had a handkerchief wrapped which was mottled all over with bloodstains He was young not more than fiveandtwenty I should say with a strong masculine face but he was exceedingly pale and gave me the impression of a man who was suffering from some strong agitation which it took all his strength of mind to control I am sorry to knock you up so early Doctor said he but I have had a very serious accident during the night I came in by train this morning and on inquiring at Paddington as to where I might find a doctor a worthy fellow very kindly escorted me here I gave the maid a card but I see that she has left it upon the sidetable I took it up and glanced at it Mr Victor Hatherley hydraulic engineer 16A Victoria Street 3rd floor That was the name style and abode of my morning visitor I regret that I have kept you waiting said I sitting down in my librarychair You are fresh from a night journey I understand which is in itself a monotonous occupation Oh my night could not be called monotonous said he and laughed He laughed very heartily with a high ringing note leaning back in his chair and shaking his sides All my medical instincts rose up against that laugh Stop it I cried pull yourself together and I poured out some water from a caraffe It was useless however He was off in one of those hysterical outbursts which come upon a strong nature when some great crisis is over and gone Presently he came to himself once more very weary and palelooking I have been making a fool of myself he gasped Not at all Drink this I dashed some brandy into the water and the colour began to come back to his bloodless cheeks Thats better said he And now Doctor perhaps you would kindly attend to my thumb or rather to the place where my thumb used to be He unwound the handkerchief and held out his hand It gave even my hardened nerves a shudder to look at it There were four protruding fingers and a horrid red spongy surface where the thumb should have been It had been hacked or torn right out from the roots Good heavens I cried this is a terrible injury It must have bled considerably Yes it did I fainted when it was done and I think that I must have been senseless for a long time When I came to I found that it was still bleeding so I tied one end of my handkerchief very tightly round the wrist and braced it up with a twig Excellent You should have been a surgeon It is a question of hydraulics you see and came within my own province This has been done said I examining the wound by a very heavy and sharp instrument A thing like a cleaver said he An accident I presume By no means What a murderous attack Very murderous indeed You horrify me I sponged the wound cleaned it dressed it and finally covered it over with cotton wadding and carbolised bandages He lay back without wincing though he bit his lip from time to time How is that I asked when I had finished Capital Between your brandy and your bandage I feel a new man I was very weak but I have had a good deal to go through Perhaps you had better not speak of the matter It is evidently trying to your nerves Oh no not now I shall have to tell my tale to the police but between ourselves if it were not for the convincing evidence of this wound of mine I should be surprised if they believed my statement for it is a very extraordinary one and I have not much in the way of proof with which to back it up and even if they believe me the clues which I can give them are so vague that it is a question whether justice will be done Ha cried I if it is anything in the nature of a problem which you desire to see solved I should strongly recommend you to come to my friend Mr Sherlock Holmes before you go to the official police Oh I have heard of that fellow answered my visitor and I should be very glad if he would take the matter up though of course I must use the official police as well Would you give me an introduction to him Ill do better Ill take you round to him myself I should be immensely obliged to you Well call a cab and go together We shall just be in time to have a little breakfast with him Do you feel equal to it Yes I shall not feel easy until I have told my story Then my servant will call a cab and I shall be with you in an instant I rushed upstairs explained the matter shortly to my wife and in five minutes was inside a hansom driving with my new acquaintance to Baker Street Sherlock Holmes was as I expected lounging about his sittingroom in his dressinggown reading the agony column of The Times and smoking his beforebreakfast pipe which was composed of all the plugs and dottles left from his smokes of the day before all carefully dried and collected on the corner of the mantelpiece He received us in his quietly genial fashion ordered fresh rashers and eggs and joined us in a hearty meal When it was concluded he settled our new acquaintance upon the sofa placed a pillow beneath his head and laid a glass of brandy and water within his reach It is easy to see that your experience has been no common one Mr Hatherley said he Pray lie down there and make yourself absolutely at home Tell us what you can but stop when you are tired and keep up your strength with a little stimulant Thank you said my patient but I have felt another man since the doctor bandaged me and I think that your breakfast has completed the cure I shall take up as little of your valuable time as possible so I shall start at once upon my peculiar experiences Holmes sat in his big armchair with the weary heavylidded expression which veiled his keen and eager nature while I sat opposite to him and we listened in silence to the strange story which our visitor detailed to us You must know said he that I am an orphan and a bachelor residing alone in lodgings in London By profession I am a hydraulic engineer and I have had considerable experience of my work during the seven years that I was apprenticed to Venner Matheson the wellknown firm of Greenwich Two years ago having served my time and having also come into a fair sum of money through my poor fathers death I determined to start in business for myself and took professional chambers in Victoria Street I suppose that everyone finds his first independent start in business a dreary experience To me it has been exceptionally so During two years I have had three consultations and one small job and that is absolutely all that my profession has brought me My gross takings amount to 27 10s Every day from nine in the morning until four in the afternoon I waited in my little den until at last my heart began to sink and I came to believe that I should never have any practice at all Yesterday however just as I was thinking of leaving the office my clerk entered to say there was a gentleman waiting who wished to see me upon business He brought up a card too with the name of Colonel Lysander Stark engraved upon it Close at his heels came the colonel himself a man rather over the middle size but of an exceeding thinness I do not think that I have ever seen so thin a man His whole face sharpened away into nose and chin and the skin of his cheeks was drawn quite tense over his outstanding bones Yet this emaciation seemed to be his natural habit and due to no disease for his eye was bright his step brisk and his bearing assured He was plainly but neatly dressed and his age I should judge would be nearer forty than thirty Mr Hatherley said he with something of a German accent You have been recommended to me Mr Hatherley as being a man who is not only proficient in his profession but is also discreet and capable of preserving a secret I bowed feeling as flattered as any young man would at such an address May I ask who it was who gave me so good a character Well perhaps it is better that I should not tell you that just at this moment I have it from the same source that you are both an orphan and a bachelor and are residing alone in London That is quite correct I answered but you will excuse me if I say that I cannot see how all this bears upon my professional qualifications I understand that it was on a professional matter that you wished to speak to me Undoubtedly so But you will find that all I say is really to the point I have a professional commission for you but absolute secrecy is quite essentialabsolute secrecy you understand and of course we may expect that more from a man who is alone than from one who lives in the bosom of his family If I promise to keep a secret said I you may absolutely depend upon my doing so He looked very hard at me as I spoke and it seemed to me that I had never seen so suspicious and questioning an eye Do you promise then said he at last Yes I promise Absolute and complete silence before during and after No reference to the matter at all either in word or writing I have already given you my word Very good He suddenly sprang up and darting like lightning across the room he flung open the door The passage outside was empty Thats all right said he coming back I know that clerks are sometimes curious as to their masters affairs Now we can talk in safety He drew up his chair very close to mine and began to stare at me again with the same questioning and thoughtful look A feeling of repulsion and of something akin to fear had begun to rise within me at the strange antics of this fleshless man Even my dread of losing a client could not restrain me from showing my impatience I beg that you will state your business sir said I my time is of value Heaven forgive me for that last sentence but the words came to my lips How would fifty guineas for a nights work suit you he asked Most admirably I say a nights work but an hours would be nearer the mark I simply want your opinion about a hydraulic stamping machine which has got out of gear If you show us what is wrong we shall soon set it right ourselves What do you think of such a commission as that The work appears to be light and the pay munificent Precisely so We shall want you to come tonight by the last train Where to To Eyford in Berkshire It is a little place near the borders of Oxfordshire and within seven miles of Reading There is a train from Paddington which would bring you there at about 1115 Very good I shall come down in a carriage to meet you There is a drive then Yes our little place is quite out in the country It is a good seven miles from Eyford Station Then we can hardly get there before midnight I suppose there would be no chance of a train back I should be compelled to stop the night Yes we could easily give you a shakedown That is very awkward Could I not come at some more convenient hour We have judged it best that you should come late It is to recompense you for any inconvenience that we are paying to you a young and unknown man a fee which would buy an opinion from the very heads of your profession Still of course if you would like to draw out of the business there is plenty of time to do so I thought of the fifty guineas and of how very useful they would be to me Not at all said I I shall be very happy to accommodate myself to your wishes I should like however to understand a little more clearly what it is that you wish me to do Quite so It is very natural that the pledge of secrecy which we have exacted from you should have aroused your curiosity I have no wish to commit you to anything without your having it all laid before you I suppose that we are absolutely safe from eavesdroppers Entirely Then the matter stands thus You are probably aware that fullersearth is a valuable product and that it is only found in one or two places in England I have heard so Some little time ago I bought a small placea very small placewithin ten miles of Reading I was fortunate enough to discover that there was a deposit of fullersearth in one of my fields On examining it however I found that this deposit was a comparatively small one and that it formed a link between two very much larger ones upon the right and leftboth of them however in the grounds of my neighbours These good people were absolutely ignorant that their land contained that which was quite as valuable as a goldmine Naturally it was to my interest to buy their land before they discovered its true value but unfortunately I had no capital by which I could do this I took a few of my friends into the secret however and they suggested that we should quietly and secretly work our own little deposit and that in this way we should earn the money which would enable us to buy the neighbouring fields This we have now been doing for some time and in order to help us in our operations we erected a hydraulic press This press as I have already explained has got out of order and we wish your advice upon the subject We guard our secret very jealously however and if it once became known that we had hydraulic engineers coming to our little house it would soon rouse inquiry and then if the facts came out it would be goodbye to any chance of getting these fields and carrying out our plans That is why I have made you promise me that you will not tell a human being that you are going to Eyford tonight I hope that I make it all plain I quite follow you said I The only point which I could not quite understand was what use you could make of a hydraulic press in excavating fullersearth which as I understand is dug out like gravel from a pit Ah said he carelessly we have our own process We compress the earth into bricks so as to remove them without revealing what they are But that is a mere detail I have taken you fully into my confidence now Mr Hatherley and I have shown you how I trust you He rose as he spoke I shall expect you then at Eyford at 1115 I shall certainly be there And not a word to a soul He looked at me with a last long questioning gaze and then pressing my hand in a cold dank grasp he hurried from the room Well when I came to think it all over in cool blood I was very much astonished as you may both think at this sudden commission which had been intrusted to me On the one hand of course I was glad for the fee was at least tenfold what I should have asked had I set a price upon my own services and it was possible that this order might lead to other ones On the other hand the face and manner of my patron had made an unpleasant impression upon me and I could not think that his explanation of the fullersearth was sufficient to explain the necessity for my coming at midnight and his extreme anxiety lest I should tell anyone of my errand However I threw all fears to the winds ate a hearty supper drove to Paddington and started off having obeyed to the letter the injunction as to holding my tongue At Reading I had to change not only my carriage but my station However I was in time for the last train to Eyford and I reached the little dimlit station after eleven oclock I was the only passenger who got out there and there was no one upon the platform save a single sleepy porter with a lantern As I passed out through the wicket gate however I found my acquaintance of the morning waiting in the shadow upon the other side Without a word he grasped my arm and hurried me into a carriage the door of which was standing open He drew up the windows on either side tapped on the woodwork and away we went as fast as the horse could go One horse interjected Holmes Yes only one Did you observe the colour Yes I saw it by the sidelights when I was stepping into the carriage It was a chestnut Tiredlooking or fresh Oh fresh and glossy Thank you I am sorry to have interrupted you Pray continue your most interesting statement Away we went then and we drove for at least an hour Colonel Lysander Stark had said that it was only seven miles but I should think from the rate that we seemed to go and from the time that we took that it must have been nearer twelve He sat at my side in silence all the time and I was aware more than once when I glanced in his direction that he was looking at me with great intensity The country roads seem to be not very good in that part of the world for we lurched and jolted terribly I tried to look out of the windows to see something of where we were but they were made of frosted glass and I could make out nothing save the occasional bright blur of a passing light Now and then I hazarded some remark to break the monotony of the journey but the colonel answered only in monosyllables and the conversation soon flagged At last however the bumping of the road was exchanged for the crisp smoothness of a graveldrive and the carriage came to a stand Colonel Lysander Stark sprang out and as I followed after him pulled me swiftly into a porch which gaped in front of us We stepped as it were right out of the carriage and into the hall so that I failed to catch the most fleeting glance of the front of the house The instant that I had crossed the threshold the door slammed heavily behind us and I heard faintly the rattle of the wheels as the carriage drove away It was pitch dark inside the house and the colonel fumbled about looking for matches and muttering under his breath Suddenly a door opened at the other end of the passage and a long golden bar of light shot out in our direction It grew broader and a woman appeared with a lamp in her hand which she held above her head pushing her face forward and peering at us I could see that she was pretty and from the gloss with which the light shone upon her dark dress I knew that it was a rich material She spoke a few words in a foreign tongue in a tone as though asking a question and when my companion answered in a gruff monosyllable she gave such a start that the lamp nearly fell from her hand Colonel Stark went up to her whispered something in her ear and then pushing her back into the room from whence she had come he walked towards me again with the lamp in his hand Perhaps you will have the kindness to wait in this room for a few minutes said he throwing open another door It was a quiet little plainly furnished room with a round table in the centre on which several German books were scattered Colonel Stark laid down the lamp on the top of a harmonium beside the door I shall not keep you waiting an instant said he and vanished into the darkness I glanced at the books upon the table and in spite of my ignorance of German I could see that two of them were treatises on science the others being volumes of poetry Then I walked across to the window hoping that I might catch some glimpse of the countryside but an oak shutter heavily barred was folded across it It was a wonderfully silent house There was an old clock ticking loudly somewhere in the passage but otherwise everything was deadly still A vague feeling of uneasiness began to steal over me Who were these German people and what were they doing living in this strange outoftheway place And where was the place I was ten miles or so from Eyford that was all I knew but whether north south east or west I had no idea For that matter Reading and possibly other large towns were within that radius so the place might not be so secluded after all Yet it was quite certain from the absolute stillness that we were in the country I paced up and down the room humming a tune under my breath to keep up my spirits and feeling that I was thoroughly earning my fiftyguinea fee Suddenly without any preliminary sound in the midst of the utter stillness the door of my room swung slowly open The woman was standing in the aperture the darkness of the hall behind her the yellow light from my lamp beating upon her eager and beautiful face I could see at a glance that she was sick with fear and the sight sent a chill to my own heart She held up one shaking finger to warn me to be silent and she shot a few whispered words of broken English at me her eyes glancing back like those of a frightened horse into the gloom behind her I would go said she trying hard as it seemed to me to speak calmly I would go I should not stay here There is no good for you to do But madam said I I have not yet done what I came for I cannot possibly leave until I have seen the machine It is not worth your while to wait she went on You can pass through the door no one hinders And then seeing that I smiled and shook my head she suddenly threw aside her constraint and made a step forward with her hands wrung together For the love of Heaven she whispered get away from here before it is too late But I am somewhat headstrong by nature and the more ready to engage in an affair when there is some obstacle in the way I thought of my fiftyguinea fee of my wearisome journey and of the unpleasant night which seemed to be before me Was it all to go for nothing Why should I slink away without having carried out my commission and without the payment which was my due This woman might for all I knew be a monomaniac With a stout bearing therefore though her manner had shaken me more than I cared to confess I still shook my head and declared my intention of remaining where I was She was about to renew her entreaties when a door slammed overhead and the sound of several footsteps was heard upon the stairs She listened for an instant threw up her hands with a despairing gesture and vanished as suddenly and as noiselessly as she had come The newcomers were Colonel Lysander Stark and a short thick man with a chinchilla beard growing out of the creases of his double chin who was introduced to me as Mr Ferguson This is my secretary and manager said the colonel By the way I was under the impression that I left this door shut just now I fear that you have felt the draught On the contrary said I I opened the door myself because I felt the room to be a little close He shot one of his suspicious looks at me Perhaps we had better proceed to business then said he Mr Ferguson and I will take you up to see the machine I had better put my hat on I suppose Oh no it is in the house What you dig fullersearth in the house No no This is only where we compress it But never mind that All we wish you to do is to examine the machine and to let us know what is wrong with it We went upstairs together the colonel first with the lamp the fat manager and I behind him It was a labyrinth of an old house with corridors passages narrow winding staircases and little low doors the thresholds of which were hollowed out by the generations who had crossed them There were no carpets and no signs of any furniture above the ground floor while the plaster was peeling off the walls and the damp was breaking through in green unhealthy blotches I tried to put on as unconcerned an air as possible but I had not forgotten the warnings of the lady even though I disregarded them and I kept a keen eye upon my two companions Ferguson appeared to be a morose and silent man but I could see from the little that he said that he was at least a fellowcountryman Colonel Lysander Stark stopped at last before a low door which he unlocked Within was a small square room in which the three of us could hardly get at one time Ferguson remained outside and the colonel ushered me in We are now said he actually within the hydraulic press and it would be a particularly unpleasant thing for us if anyone were to turn it on The ceiling of this small chamber is really the end of the descending piston and it comes down with the force of many tons upon this metal floor There are small lateral columns of water outside which receive the force and which transmit and multiply it in the manner which is familiar to you The machine goes readily enough but there is some stiffness in the working of it and it has lost a little of its force Perhaps you will have the goodness to look it over and to show us how we can set it right I took the lamp from him and I examined the machine very thoroughly It was indeed a gigantic one and capable of exercising enormous pressure When I passed outside however and pressed down the levers which controlled it I knew at once by the whishing sound that there was a slight leakage which allowed a regurgitation of water through one of the side cylinders An examination showed that one of the indiarubber bands which was round the head of a drivingrod had shrunk so as not quite to fill the socket along which it worked This was clearly the cause of the loss of power and I pointed it out to my companions who followed my remarks very carefully and asked several practical questions as to how they should proceed to set it right When I had made it clear to them I returned to the main chamber of the machine and took a good look at it to satisfy my own curiosity It was obvious at a glance that the story of the fullersearth was the merest fabrication for it would be absurd to suppose that so powerful an engine could be designed for so inadequate a purpose The walls were of wood but the floor consisted of a large iron trough and when I came to examine it I could see a crust of metallic deposit all over it I had stooped and was scraping at this to see exactly what it was when I heard a muttered exclamation in German and saw the cadaverous face of the colonel looking down at me What are you doing there he asked I felt angry at having been tricked by so elaborate a story as that which he had told me I was admiring your fullersearth said I I think that I should be better able to advise you as to your machine if I knew what the exact purpose was for which it was used The instant that I uttered the words I regretted the rashness of my speech His face set hard and a baleful light sprang up in his grey eyes Very well said he you shall know all about the machine He took a step backward slammed the little door and turned the key in the lock I rushed towards it and pulled at the handle but it was quite secure and did not give in the least to my kicks and shoves Hullo I yelled Hullo Colonel Let me out And then suddenly in the silence I heard a sound which sent my heart into my mouth It was the clank of the levers and the swish of the leaking cylinder He had set the engine at work The lamp still stood upon the floor where I had placed it when examining the trough By its light I saw that the black ceiling was coming down upon me slowly jerkily but as none knew better than myself with a force which must within a minute grind me to a shapeless pulp I threw myself screaming against the door and dragged with my nails at the lock I implored the colonel to let me out but the remorseless clanking of the levers drowned my cries The ceiling was only a foot or two above my head and with my hand upraised I could feel its hard rough surface Then it flashed through my mind that the pain of my death would depend very much upon the position in which I met it If I lay on my face the weight would come upon my spine and I shuddered to think of that dreadful snap Easier the other way perhaps and yet had I the nerve to lie and look up at that deadly black shadow wavering down upon me Already I was unable to stand erect when my eye caught something which brought a gush of hope back to my heart I have said that though the floor and ceiling were of iron the walls were of wood As I gave a last hurried glance around I saw a thin line of yellow light between two of the boards which broadened and broadened as a small panel was pushed backward For an instant I could hardly believe that here was indeed a door which led away from death The next instant I threw myself through and lay halffainting upon the other side The panel had closed again behind me but the crash of the lamp and a few moments afterwards the clang of the two slabs of metal told me how narrow had been my escape I was recalled to myself by a frantic plucking at my wrist and I found myself lying upon the stone floor of a narrow corridor while a woman bent over me and tugged at me with her left hand while she held a candle in her right It was the same good friend whose warning I had so foolishly rejected Come come she cried breathlessly They will be here in a moment They will see that you are not there Oh do not waste the soprecious time but come This time at least I did not scorn her advice I staggered to my feet and ran with her along the corridor and down a winding stair The latter led to another broad passage and just as we reached it we heard the sound of running feet and the shouting of two voices one answering the other from the floor on which we were and from the one beneath My guide stopped and looked about her like one who is at her wits end Then she threw open a door which led into a bedroom through the window of which the moon was shining brightly It is your only chance said she It is high but it may be that you can jump it As she spoke a light sprang into view at the further end of the passage and I saw the lean figure of Colonel Lysander Stark rushing forward with a lantern in one hand and a weapon like a butchers cleaver in the other I rushed across the bedroom flung open the window and looked out How quiet and sweet and wholesome the garden looked in the moonlight and it could not be more than thirty feet down I clambered out upon the sill but I hesitated to jump until I should have heard what passed between my saviour and the ruffian who pursued me If she were illused then at any risks I was determined to go back to her assistance The thought had hardly flashed through my mind before he was at the door pushing his way past her but she threw her arms round him and tried to hold him back Fritz Fritz she cried in English remember your promise after the last time You said it should not be again He will be silent Oh he will be silent You are mad Elise he shouted struggling to break away from her You will be the ruin of us He has seen too much Let me pass I say He dashed her to one side and rushing to the window cut at me with his heavy weapon I had let myself go and was hanging by the hands to the sill when his blow fell I was conscious of a dull pain my grip loosened and I fell into the garden below I was shaken but not hurt by the fall so I picked myself up and rushed off among the bushes as hard as I could run for I understood that I was far from being out of danger yet Suddenly however as I ran a deadly dizziness and sickness came over me I glanced down at my hand which was throbbing painfully and then for the first time saw that my thumb had been cut off and that the blood was pouring from my wound I endeavoured to tie my handkerchief round it but there came a sudden buzzing in my ears and next moment I fell in a dead faint among the rosebushes How long I remained unconscious I cannot tell It must have been a very long time for the moon had sunk and a bright morning was breaking when I came to myself My clothes were all sodden with dew and my coatsleeve was drenched with blood from my wounded thumb The smarting of it recalled in an instant all the particulars of my nights adventure and I sprang to my feet with the feeling that I might hardly yet be safe from my pursuers But to my astonishment when I came to look round me neither house nor garden were to be seen I had been lying in an angle of the hedge close by the highroad and just a little lower down was a long building which proved upon my approaching it to be the very station at which I had arrived upon the previous night Were it not for the ugly wound upon my hand all that had passed during those dreadful hours might have been an evil dream Half dazed I went into the station and asked about the morning train There would be one to Reading in less than an hour The same porter was on duty I found as had been there when I arrived I inquired of him whether he had ever heard of Colonel Lysander Stark The name was strange to him Had he observed a carriage the night before waiting for me No he had not Was there a policestation anywhere near There was one about three miles off It was too far for me to go weak and ill as I was I determined to wait until I got back to town before telling my story to the police It was a little past six when I arrived so I went first to have my wound dressed and then the doctor was kind enough to bring me along here I put the case into your hands and shall do exactly what you advise We both sat in silence for some little time after listening to this extraordinary narrative Then Sherlock Holmes pulled down from the shelf one of the ponderous commonplace books in which he placed his cuttings Here is an advertisement which will interest you said he It appeared in all the papers about a year ago Listen to this Lost on the 9th inst Mr Jeremiah Hayling aged twentysix a hydraulic engineer Left his lodgings at ten oclock at night and has not been heard of since Was dressed in etc etc Ha That represents the last time that the colonel needed to have his machine overhauled I fancy Good heavens cried my patient Then that explains what the girl said Undoubtedly It is quite clear that the colonel was a cool and desperate man who was absolutely determined that nothing should stand in the way of his little game like those outandout pirates who will leave no survivor from a captured ship Well every moment now is precious so if you feel equal to it we shall go down to Scotland Yard at once as a preliminary to starting for Eyford Some three hours or so afterwards we were all in the train together bound from Reading to the little Berkshire village There were Sherlock Holmes the hydraulic engineer Inspector Bradstreet of Scotland Yard a plainclothes man and myself Bradstreet had spread an ordnance map of the county out upon the seat and was busy with his compasses drawing a circle with Eyford for its centre There you are said he That circle is drawn at a radius of ten miles from the village The place we want must be somewhere near that line You said ten miles I think sir It was an hours good drive And you think that they brought you back all that way when you were unconscious They must have done so I have a confused memory too of having been lifted and conveyed somewhere What I cannot understand said I is why they should have spared you when they found you lying fainting in the garden Perhaps the villain was softened by the womans entreaties I hardly think that likely I never saw a more inexorable face in my life Oh we shall soon clear up all that said Bradstreet Well I have drawn my circle and I only wish I knew at what point upon it the folk that we are in search of are to be found I think I could lay my finger on it said Holmes quietly Really now cried the inspector you have formed your opinion Come now we shall see who agrees with you I say it is south for the country is more deserted there And I say east said my patient I am for west remarked the plainclothes man There are several quiet little villages up there And I am for north said I because there are no hills there and our friend says that he did not notice the carriage go up any Come cried the inspector laughing its a very pretty diversity of opinion We have boxed the compass among us Who do you give your casting vote to You are all wrong But we cant all be Oh yes you can This is my point He placed his finger in the centre of the circle This is where we shall find them But the twelvemile drive gasped Hatherley Six out and six back Nothing simpler You say yourself that the horse was fresh and glossy when you got in How could it be that if it had gone twelve miles over heavy roads Indeed it is a likely ruse enough observed Bradstreet thoughtfully Of course there can be no doubt as to the nature of this gang None at all said Holmes They are coiners on a large scale and have used the machine to form the amalgam which has taken the place of silver We have known for some time that a clever gang was at work said the inspector They have been turning out halfcrowns by the thousand We even traced them as far as Reading but could get no farther for they had covered their traces in a way that showed that they were very old hands But now thanks to this lucky chance I think that we have got them right enough But the inspector was mistaken for those criminals were not destined to fall into the hands of justice As we rolled into Eyford Station we saw a gigantic column of smoke which streamed up from behind a small clump of trees in the neighbourhood and hung like an immense ostrich feather over the landscape A house on fire asked Bradstreet as the train steamed off again on its way Yes sir said the stationmaster When did it break out I hear that it was during the night sir but it has got worse and the whole place is in a blaze Whose house is it Dr Bechers Tell me broke in the engineer is Dr Becher a German very thin with a long sharp nose The stationmaster laughed heartily No sir Dr Becher is an Englishman and there isnt a man in the parish who has a betterlined waistcoat But he has a gentleman staying with him a patient as I understand who is a foreigner and he looks as if a little good Berkshire beef would do him no harm The stationmaster had not finished his speech before we were all hastening in the direction of the fire The road topped a low hill and there was a great widespread whitewashed building in front of us spouting fire at every chink and window while in the garden in front three fireengines were vainly striving to keep the flames under Thats it cried Hatherley in intense excitement There is the graveldrive and there are the rosebushes where I lay That second window is the one that I jumped from Well at least said Holmes you have had your revenge upon them There can be no question that it was your oillamp which when it was crushed in the press set fire to the wooden walls though no doubt they were too excited in the chase after you to observe it at the time Now keep your eyes open in this crowd for your friends of last night though I very much fear that they are a good hundred miles off by now And Holmes fears came to be realised for from that day to this no word has ever been heard either of the beautiful woman the sinister German or the morose Englishman Early that morning a peasant had met a cart containing several people and some very bulky boxes driving rapidly in the direction of Reading but there all traces of the fugitives disappeared and even Holmes ingenuity failed ever to discover the least clue as to their whereabouts The firemen had been much perturbed at the strange arrangements which they had found within and still more so by discovering a newly severed human thumb upon a windowsill of the second floor About sunset however their efforts were at last successful and they subdued the flames but not before the roof had fallen in and the whole place been reduced to such absolute ruin that save some twisted cylinders and iron piping not a trace remained of the machinery which had cost our unfortunate acquaintance so dearly Large masses of nickel and of tin were discovered stored in an outhouse but no coins were to be found which may have explained the presence of those bulky boxes which have been already referred to How our hydraulic engineer had been conveyed from the garden to the spot where he recovered his senses might have remained forever a mystery were it not for the soft mould which told us a very plain tale He had evidently been carried down by two persons one of whom had remarkably small feet and the other unusually large ones On the whole it was most probable that the silent Englishman being less bold or less murderous than his companion had assisted the woman to bear the unconscious man out of the way of danger Well said our engineer ruefully as we took our seats to return once more to London it has been a pretty business for me I have lost my thumb and I have lost a fiftyguinea fee and what have I gained Experience said Holmes laughing Indirectly it may be of value you know you have only to put it into words to gain the reputation of being excellent company for the remainder of your existence This text is provided to you asis without any warranty No warranties of any kind expressed or implied are made to you as to the text or any medium it may be on including but not limited to warranties of merchantablity or fitness for a particular purpose This text was formatted from various free ASCII and HTML variants See httpsherlockholmes for an electronic form of this text and additional information about it This text comes from the collections version 31.\n",
      "Similarity: 0.4070\n"
     ]
    }
   ],
   "source": [
    "def display_full_paragraph(results, choice):\n",
    "    \"\"\"\n",
    "    Displays the full version of a selected paragraph based on the result number.\n",
    "\n",
    "    \"\"\"\n",
    "    if 1 <= choice <= len(results):\n",
    "        file_name, paragraph, similarity = results[choice - 1]\n",
    "        print(f\"\\n--- Full Paragraph for Result {choice} ---\")\n",
    "        print(f\"File: {file_name}\")\n",
    "        print(f\"Paragraph:\\n{paragraph}\")\n",
    "        print(f\"Similarity: {similarity:.4f}\")\n",
    "    else:\n",
    "        print(\"Invalid choice. Please select a valid result number.\")\n",
    "\n",
    "# Displaying top results in a summarized form\n",
    "print(f\"Top {len(top_results)} results for query: '{query}'\\n\")\n",
    "for idx, (file_name, paragraph, similarity) in enumerate(top_results, start=1):\n",
    "    print(f\"Result {idx}:\")\n",
    "    print(f\"File: {file_name}\")\n",
    "    print(f\"Paragraph (first 300 chars): {paragraph[:300]}...\")\n",
    "    print(f\"Similarity: {similarity:.4f}\")\n",
    "    print(\"-\" * 50)\n",
    "\n",
    "# Selecting which result want to view in full\n",
    "try:\n",
    "    choice = int(input(\"\\nEnter the result number to view the full paragraph (1-5): \"))\n",
    "    display_full_paragraph(top_results, choice)\n",
    "except ValueError:\n",
    "    print(\"Invalid input. Please enter a number.\")\n"
   ]
  },
  {
   "cell_type": "markdown",
   "id": "c2b1b750",
   "metadata": {},
   "source": [
    "# Storing embeddings in ChromaDB. "
   ]
  },
  {
   "cell_type": "code",
   "execution_count": 12,
   "id": "a9160155",
   "metadata": {},
   "outputs": [
    {
     "name": "stdout",
     "output_type": "stream",
     "text": [
      "ChromaDB initialized and collection created.\n"
     ]
    }
   ],
   "source": [
    "# Initialise a new ChromaDB client\n",
    "client = chromadb.Client()\n",
    "\n",
    "# Creating or retrieve a collection\n",
    "collection_name = \"sherlock_paragraphs\"\n",
    "collection = client.get_or_create_collection(name=collection_name)\n",
    "\n",
    "print(\"ChromaDB initialized and collection created.\")"
   ]
  },
  {
   "cell_type": "code",
   "execution_count": 13,
   "id": "5cb37a46",
   "metadata": {},
   "outputs": [
    {
     "name": "stdout",
     "output_type": "stream",
     "text": [
      "Added 67 paragraphs to the ChromaDB collection 'sherlock_paragraphs'.\n",
      "Top 5 results for query: 'detective investigations'\n",
      "Result 1:\n",
      "Document: When I glance over my notes and records of the Sherlock Holmes cases between the years 82 and 90 I a...\n",
      "Metadata: {'file_name': 'five.txt'}\n",
      "Distance: 1.1189\n",
      "--------------------------------------------------\n",
      "Result 2:\n",
      "Document: THE ENGINEERS THUMB Arthur Conan Doyle Of all the problems which have been submitted to my friend Mr...\n",
      "Metadata: {'file_name': 'engr.txt'}\n",
      "Distance: 1.1860\n",
      "--------------------------------------------------\n",
      "Result 3:\n",
      "Document: Somewhere in the vaults of the bank of Cox and Co at Charing Cross there is a travelworn and battere...\n",
      "Metadata: {'file_name': 'thor.txt'}\n",
      "Distance: 1.2226\n",
      "--------------------------------------------------\n",
      "Result 4:\n",
      "Document: THE SPECKLED BAND Arthur Conan Doyle On glancing over my notes of the seventy odd cases in which I h...\n",
      "Metadata: {'file_name': 'spec.txt'}\n",
      "Distance: 1.2231\n",
      "--------------------------------------------------\n",
      "Result 5:\n",
      "Document: The July which immediately succeeded my marriage was made memorable by three cases of interest in wh...\n",
      "Metadata: {'file_name': 'nava.txt'}\n",
      "Distance: 1.2303\n",
      "--------------------------------------------------\n"
     ]
    }
   ],
   "source": [
    "# Load the embedding model\n",
    "model = SentenceTransformer('all-MiniLM-L6-v2')\n",
    "\n",
    "# Function to split texts into paragraphs\n",
    "def split_into_paragraphs(folder_path, sentences_per_paragraph=3):\n",
    "    \"\"\"\n",
    "    Reads text files, splits them into paragraphs based on sentence count, and returns them.\n",
    "    \"\"\"\n",
    "    paragraphs = []\n",
    "    file_names = []\n",
    "\n",
    "    for file_name in os.listdir(folder_path):\n",
    "        file_path = os.path.join(folder_path, file_name)\n",
    "        if os.path.isfile(file_path):\n",
    "            with open(file_path, 'r', encoding='utf-8') as file:\n",
    "                text = file.read()\n",
    "\n",
    "            # Split into sentences and group them into paragraphs\n",
    "            sentences = text.split('.')\n",
    "            temp_paragraph = []\n",
    "\n",
    "            for sentence in sentences:\n",
    "                if len(sentence.strip()) > 0:\n",
    "                    temp_paragraph.append(sentence.strip())\n",
    "                    if len(temp_paragraph) >= sentences_per_paragraph:\n",
    "                        paragraphs.append(\". \".join(temp_paragraph) + \".\")\n",
    "                        file_names.append(file_name)\n",
    "                        temp_paragraph = []\n",
    "\n",
    "            # Adding any remaining sentences as a paragraph\n",
    "            if temp_paragraph:\n",
    "                paragraphs.append(\". \".join(temp_paragraph) + \".\")\n",
    "                file_names.append(file_name)\n",
    "\n",
    "    return paragraphs, file_names\n",
    "\n",
    "# Load and split Sherlock Holmes texts\n",
    "cleaned_folder_path = \"C:/Users/kazan/Downloads/Sherlock Holmes Stories/cleaned_sherlock\"\n",
    "paragraphs, file_names = split_into_paragraphs(cleaned_folder_path)\n",
    "\n",
    "# Add paragraphs to the ChromaDB collection\n",
    "for idx, paragraph in enumerate(paragraphs):\n",
    "    collection.add(\n",
    "        documents=[paragraph],\n",
    "        metadatas=[{\"file_name\": file_names[idx]}],\n",
    "        ids=[f\"doc_{idx}\"]\n",
    "    )\n",
    "print(f\"Added {len(paragraphs)} paragraphs to the ChromaDB collection '{collection_name}'.\")\n",
    "\n",
    "# Semantic search function\n",
    "def semantic_search(query, top_n=5):\n",
    "    \"\"\"\n",
    "    Performs a semantic search using precomputed embeddings in ChromaDB.\n",
    "\n",
    "    \"\"\"\n",
    "    query_embedding = model.encode([query])\n",
    "    results = collection.query(query_embeddings=query_embedding, n_results=top_n)\n",
    "    return results\n",
    "\n",
    "# Example query with a user-defined number of results\n",
    "query = \"detective investigations\"\n",
    "top_n = 5  # User can modify this value\n",
    "results = semantic_search(query, top_n=top_n)\n",
    "\n",
    "# Displaying results\n",
    "print(f\"Top {len(results['documents'][0])} results for query: '{query}'\")\n",
    "for idx, (doc, meta, dist) in enumerate(zip(results['documents'][0], results['metadatas'][0], results['distances'][0]), start=1):\n",
    "    print(f\"Result {idx}:\")\n",
    "    print(f\"Document: {doc[:100]}...\")  # Displays the first 100 characters of the paragraph\n",
    "    print(f\"Metadata: {meta}\")\n",
    "    print(f\"Distance: {dist:.4f}\")\n",
    "    print(\"-\" * 50)"
   ]
  },
  {
   "cell_type": "markdown",
   "id": "a5ac2fdb",
   "metadata": {},
   "source": [
    "#  Task 4 Latent Dirichlet Allocation (LDA)"
   ]
  },
  {
   "cell_type": "code",
   "execution_count": 14,
   "id": "7b514990",
   "metadata": {},
   "outputs": [
    {
     "name": "stdout",
     "output_type": "stream",
     "text": [
      "Topic 1: holmes, said, watson, man, mr, come, house, did, face, way\n",
      "Topic 2: said, holmes, man, mr, little, sir, know, think, come, did\n",
      "Topic 3: holmes, said, mr, man, watson, sir, did, know, old, say\n",
      "Topic 4: said, man, holmes, mr, come, know, time, came, little, way\n",
      "Topic 5: holmes, said, mr, man, watson, sir, room, come, did, time\n"
     ]
    },
    {
     "data": {
      "image/png": "[encoded data removed]",
      "text/plain": [
       "<Figure size 640x480 with 1 Axes>"
      ]
     },
     "metadata": {},
     "output_type": "display_data"
    },
    {
     "data": {
      "image/png": "[encoded data removed]",
      "text/plain": [
       "<Figure size 640x480 with 1 Axes>"
      ]
     },
     "metadata": {},
     "output_type": "display_data"
    }
   ],
   "source": [
    "# Loading cleaned Sherlock Holmes texts\n",
    "def load_cleaned_texts(folder_path):\n",
    "    \"\"\"\n",
    "    Reads text files from the specified folder and returns them as a list of strings.\n",
    "\n",
    "    \"\"\"\n",
    "    texts = []\n",
    "    for file_name in os.listdir(folder_path):\n",
    "        file_path = os.path.join(folder_path, file_name)\n",
    "        with open(file_path, 'r', encoding='utf-8') as file:\n",
    "            texts.append(file.read())\n",
    "    return texts\n",
    "\n",
    "# Defineing the folder path for cleaned Sherlock Holmes texts\n",
    "cleaned_folder_path = \"C:/Users/kazan/Downloads/Sherlock Holmes Stories/cleaned_sherlock\"\n",
    "texts = load_cleaned_texts(cleaned_folder_path)\n",
    "\n",
    "# Converting texts to a document-term matrix using CountVectorizer\n",
    "vectorizer = CountVectorizer(max_features=5000, stop_words='english')\n",
    "X = vectorizer.fit_transform(texts)\n",
    "\n",
    "# Fiting LDA model to extract topics\n",
    "num_topics = 5  # Number of topics to extract (modifiable based on dataset)\n",
    "lda = LatentDirichletAllocation(n_components=num_topics, random_state=42)\n",
    "lda.fit(X)\n",
    "\n",
    "# Displaying top words for each topic\n",
    "def display_topics(model, feature_names, num_top_words=10):\n",
    "    \"\"\"\n",
    "    Displays the top words for each topic extracted by the LDA model.\n",
    "\n",
    "    \"\"\"\n",
    "    for topic_idx, topic in enumerate(model.components_):\n",
    "        top_words = [feature_names[i] for i in topic.argsort()[:-num_top_words - 1:-1]]\n",
    "        print(f\"Topic {topic_idx + 1}: {', '.join(top_words)}\")\n",
    "\n",
    "feature_names = vectorizer.get_feature_names_out()\n",
    "display_topics(lda, feature_names)\n",
    "\n",
    "# Analyse topic distribution for each document\n",
    "topic_distributions = lda.transform(X)\n",
    "\n",
    "# Visualise topic distribution for the entire corpus\n",
    "avg_topic_distribution = np.mean(topic_distributions, axis=0)\n",
    "plt.bar(range(1, num_topics + 1), avg_topic_distribution)\n",
    "plt.xlabel('Topic')\n",
    "plt.ylabel('Average Proportion')\n",
    "plt.title('Average Topic Distribution Across Corpus')\n",
    "plt.show()\n",
    "\n",
    "# Visualise topic distribution for the first document as an example\n",
    "plt.bar(range(1, num_topics + 1), topic_distributions[0])\n",
    "plt.xlabel('Topic')\n",
    "plt.ylabel('Proportion')\n",
    "plt.title('Topic Distribution for the First Document')\n",
    "plt.show()"
   ]
  },
  {
   "cell_type": "code",
   "execution_count": 15,
   "id": "af4d785f",
   "metadata": {},
   "outputs": [
    {
     "name": "stdout",
     "output_type": "stream",
     "text": [
      "Story 1 Topic Distribution: [9.79203029e-05 9.80386370e-05 9.99607934e-01 9.81324004e-05\n",
      " 9.79744606e-05]\n",
      "Story 2 Topic Distribution: [9.64817012e-05 9.65069511e-05 9.99614183e-01 9.63598935e-05\n",
      " 9.64687946e-05]\n",
      "Story 3 Topic Distribution: [9.16783057e-05 9.19500595e-05 9.18213135e-05 9.17203837e-05\n",
      " 9.99632830e-01]\n",
      "Story 4 Topic Distribution: [6.72681614e-05 6.72929658e-05 6.73950064e-05 6.72718383e-05\n",
      " 9.99730772e-01]\n",
      "Story 5 Topic Distribution: [5.92822954e-06 9.99976261e-01 5.93366563e-06 5.94145387e-06\n",
      " 5.93597281e-06]\n",
      "Story 6 Topic Distribution: [6.50360992e-05 9.99739476e-01 6.51190220e-05 6.51246562e-05\n",
      " 6.52444146e-05]\n",
      "Story 7 Topic Distribution: [7.32773868e-05 7.33988662e-05 7.33031198e-05 7.33350732e-05\n",
      " 9.99706686e-01]\n",
      "Story 8 Topic Distribution: [8.04080701e-05 8.04746507e-05 9.99678055e-01 8.04844874e-05\n",
      " 8.05781536e-05]\n",
      "Story 9 Topic Distribution: [7.73928963e-05 9.99690073e-01 7.75033813e-05 7.75525213e-05\n",
      " 7.74779610e-05]\n",
      "Story 10 Topic Distribution: [6.38253282e-05 9.99744355e-01 6.38664125e-05 6.39323338e-05\n",
      " 6.40205177e-05]\n",
      "Story 11 Topic Distribution: [9.99780594e-01 5.48223190e-05 5.47969918e-05 5.48506170e-05\n",
      " 5.49360954e-05]\n",
      "Story 12 Topic Distribution: [0.0687037  0.36216043 0.10464462 0.26834139 0.19614985]\n",
      "Story 13 Topic Distribution: [9.96575923e-01 3.20715208e-03 7.22538529e-05 7.23858356e-05\n",
      " 7.22857189e-05]\n",
      "Story 14 Topic Distribution: [7.44869703e-06 1.69827951e-05 9.99960659e-01 7.45125570e-06\n",
      " 7.45837151e-06]\n",
      "Story 15 Topic Distribution: [8.46825197e-05 1.65246416e-02 8.48137027e-05 8.47143524e-05\n",
      " 9.83221148e-01]\n",
      "Story 16 Topic Distribution: [0.07756445 0.40107389 0.00306573 0.30125059 0.21704534]\n",
      "Story 17 Topic Distribution: [6.12652944e-05 9.99754803e-01 6.13829432e-05 6.12798013e-05\n",
      " 6.12689549e-05]\n",
      "Story 18 Topic Distribution: [7.73020759e-05 7.73699017e-05 9.99690696e-01 7.72575966e-05\n",
      " 7.73741131e-05]\n",
      "Story 19 Topic Distribution: [8.92591419e-05 1.30347044e-01 5.31739407e-02 8.16300475e-01\n",
      " 8.92812345e-05]\n",
      "Story 20 Topic Distribution: [6.13293032e-05 6.13783334e-05 6.14027718e-05 6.14762267e-05\n",
      " 9.99754413e-01]\n",
      "Story 21 Topic Distribution: [9.99760694e-01 5.99015491e-05 5.97766417e-05 5.97709673e-05\n",
      " 5.98569024e-05]\n",
      "Story 22 Topic Distribution: [9.96247031e-01 1.04244258e-04 3.44015013e-03 1.04255014e-04\n",
      " 1.04319628e-04]\n",
      "Story 23 Topic Distribution: [6.89386322e-05 3.44268050e-04 6.89217983e-05 1.41505987e-02\n",
      " 9.85367273e-01]\n",
      "Story 24 Topic Distribution: [7.37103637e-05 9.97409694e-01 7.37696591e-05 2.36911217e-03\n",
      " 7.37135577e-05]\n",
      "Story 25 Topic Distribution: [0.01184971 0.02450645 0.07759657 0.79946572 0.08658155]\n",
      "Story 26 Topic Distribution: [8.84621935e-05 9.90533775e-01 8.85094762e-05 9.20068596e-03\n",
      " 8.85669673e-05]\n",
      "Story 27 Topic Distribution: [8.25367329e-05 8.25781892e-05 2.79998134e-03 9.93831068e-01\n",
      " 3.20383595e-03]\n",
      "Story 28 Topic Distribution: [6.64785664e-05 6.65500100e-05 6.65581290e-05 6.65243799e-05\n",
      " 9.99733889e-01]\n",
      "Story 29 Topic Distribution: [8.73951793e-05 8.73162626e-05 8.73073103e-05 9.99650703e-01\n",
      " 8.72785774e-05]\n",
      "Story 30 Topic Distribution: [2.68006364e-04 9.61800814e-01 1.37411936e-03 1.58689510e-05\n",
      " 3.65411910e-02]\n",
      "Story 31 Topic Distribution: [8.62074207e-05 9.99654789e-01 8.64291135e-05 8.62669928e-05\n",
      " 8.63070287e-05]\n",
      "Story 32 Topic Distribution: [6.41544195e-05 6.42334057e-05 9.99743232e-01 6.41785946e-05\n",
      " 6.42012689e-05]\n",
      "Story 33 Topic Distribution: [9.99687773e-01 7.80269311e-05 7.81007273e-05 7.80339936e-05\n",
      " 7.80655437e-05]\n",
      "Story 34 Topic Distribution: [9.98834247e-01 9.66374301e-05 8.75694540e-04 9.66939774e-05\n",
      " 9.67271407e-05]\n",
      "Story 35 Topic Distribution: [8.78305862e-05 8.79404944e-05 9.99648176e-01 8.81124328e-05\n",
      " 8.79407407e-05]\n",
      "Story 36 Topic Distribution: [9.99964429e-01 8.89940692e-06 8.88938633e-06 8.88994535e-06\n",
      " 8.89272494e-06]\n",
      "Story 37 Topic Distribution: [1.02003998e-04 1.01940569e-04 9.99591846e-01 1.01988636e-04\n",
      " 1.02220792e-04]\n",
      "Story 38 Topic Distribution: [7.19818289e-06 2.05287240e-02 8.30695086e-03 9.64992549e-01\n",
      " 6.16457827e-03]\n",
      "Story 39 Topic Distribution: [7.16644641e-05 7.17633645e-05 7.18446516e-05 7.16938667e-05\n",
      " 9.99713034e-01]\n",
      "Story 40 Topic Distribution: [8.51842313e-05 4.84679905e-02 8.53678635e-05 9.51276152e-01\n",
      " 8.53050198e-05]\n",
      "Story 41 Topic Distribution: [4.79701214e-05 4.80212640e-05 4.80056546e-05 9.96783980e-01\n",
      " 3.07202328e-03]\n",
      "Story 42 Topic Distribution: [7.48230283e-05 9.78831091e-01 2.01807714e-02 7.48102006e-05\n",
      " 8.38504097e-04]\n",
      "Story 43 Topic Distribution: [6.47094595e-05 6.48596900e-05 6.47408861e-05 6.47519806e-05\n",
      " 9.99740938e-01]\n",
      "Story 44 Topic Distribution: [5.13552978e-05 5.14284660e-05 5.13612050e-05 5.13601343e-05\n",
      " 9.99794495e-01]\n",
      "Story 45 Topic Distribution: [9.99675078e-01 8.12274979e-05 8.12977930e-05 8.12014485e-05\n",
      " 8.11947883e-05]\n",
      "Story 46 Topic Distribution: [6.86513308e-05 9.99725003e-01 6.86954472e-05 6.87366115e-05\n",
      " 6.89132932e-05]\n",
      "Story 47 Topic Distribution: [8.08696059e-05 8.10915294e-05 8.58008562e-02 9.11620145e-01\n",
      " 2.41703734e-03]\n",
      "Story 48 Topic Distribution: [9.12734586e-05 9.14237023e-05 9.14167811e-05 9.99634522e-01\n",
      " 9.13642323e-05]\n",
      "Story 49 Topic Distribution: [4.11241372e-03 1.09387893e-04 9.95295850e-01 1.09455918e-04\n",
      " 3.72892934e-04]\n",
      "Story 50 Topic Distribution: [5.34134463e-06 1.50641838e-04 5.34426619e-06 5.34495174e-06\n",
      " 9.99833328e-01]\n",
      "Story 51 Topic Distribution: [7.32224387e-05 9.94708946e-01 5.07135898e-03 7.32069484e-05\n",
      " 7.32661103e-05]\n",
      "Story 52 Topic Distribution: [6.10473690e-05 6.09908253e-05 6.10625111e-05 6.10085999e-05\n",
      " 9.99755891e-01]\n",
      "Story 53 Topic Distribution: [9.63067558e-05 9.63865201e-05 9.99614787e-01 9.62850140e-05\n",
      " 9.62345547e-05]\n",
      "Story 54 Topic Distribution: [1.47234240e-05 9.14728493e-01 1.47257446e-05 7.99177460e-02\n",
      " 5.32431156e-03]\n",
      "Story 55 Topic Distribution: [6.26635221e-05 4.13000381e-02 2.22400584e-02 9.28109632e-01\n",
      " 8.28760778e-03]\n",
      "Story 56 Topic Distribution: [7.21457225e-05 7.20041752e-05 7.19765231e-05 7.20148400e-05\n",
      " 9.99711859e-01]\n",
      "Story 57 Topic Distribution: [7.58263727e-05 7.97132836e-04 7.59936775e-05 7.59160993e-05\n",
      " 9.98975131e-01]\n",
      "Story 58 Topic Distribution: [5.89903797e-05 9.99763974e-01 5.89988402e-05 5.89817310e-05\n",
      " 5.90550465e-05]\n",
      "Story 59 Topic Distribution: [9.06797602e-05 9.08374065e-05 9.07411774e-05 9.99637059e-01\n",
      " 9.06829458e-05]\n",
      "Story 60 Topic Distribution: [1.45867717e-05 1.07364833e-01 1.45779757e-05 8.89257868e-01\n",
      " 3.34813422e-03]\n",
      "Story 61 Topic Distribution: [9.69470406e-05 9.72012412e-05 9.99611846e-01 9.70280447e-05\n",
      " 9.69774960e-05]\n",
      "Story 62 Topic Distribution: [6.45210863e-05 6.45917661e-05 9.99741704e-01 6.45521009e-05\n",
      " 6.46314404e-05]\n",
      "Story 63 Topic Distribution: [6.63056285e-05 9.99734680e-01 6.62930123e-05 6.64003264e-05\n",
      " 6.63207859e-05]\n",
      "Story 64 Topic Distribution: [0.00159823 0.00203739 0.08354879 0.88159402 0.03122156]\n",
      "Story 65 Topic Distribution: [1.39007235e-04 1.39126432e-04 9.99443833e-01 1.38921316e-04\n",
      " 1.39112416e-04]\n",
      "Story 66 Topic Distribution: [9.99795224e-01 5.11838839e-05 5.11947182e-05 5.11622795e-05\n",
      " 5.12351246e-05]\n",
      "Story 67 Topic Distribution: [8.53762598e-05 2.10478298e-02 4.96709313e-03 9.73814325e-01\n",
      " 8.53756299e-05]\n"
     ]
    }
   ],
   "source": [
    "# This loop iterates through each document in the dataset and prints its topic distribution\n",
    "for i, dist in enumerate(topic_distributions):\n",
    "    print(f\"Story {i + 1} Topic Distribution: {dist}\")"
   ]
  },
  {
   "cell_type": "code",
   "execution_count": 16,
   "id": "fce7f5fc",
   "metadata": {
    "scrolled": false
   },
   "outputs": [
    {
     "data": {
      "image/png": "[encoded data removed]",
      "text/plain": [
       "<Figure size 640x480 with 1 Axes>"
      ]
     },
     "metadata": {},
     "output_type": "display_data"
    },
    {
     "data": {
      "image/png": "[encoded data removed]",
      "text/plain": [
       "<Figure size 640x480 with 1 Axes>"
      ]
     },
     "metadata": {},
     "output_type": "display_data"
    },
    {
     "data": {
      "image/png": "[encoded data removed]",
      "text/plain": [
       "<Figure size 640x480 with 1 Axes>"
      ]
     },
     "metadata": {},
     "output_type": "display_data"
    },
    {
     "data": {
      "image/png": "[encoded data removed]",
      "text/plain": [
       "<Figure size 640x480 with 1 Axes>"
      ]
     },
     "metadata": {},
     "output_type": "display_data"
    },
    {
     "data": {
      "image/png": "[encoded data removed]",
      "text/plain": [
       "<Figure size 640x480 with 1 Axes>"
      ]
     },
     "metadata": {},
     "output_type": "display_data"
    }
   ],
   "source": [
    "#  Visualises the topic distribution for the first 5 Sherlock Holmes storie\n",
    "for i, dist in enumerate(topic_distributions[:5]):\n",
    "    plt.bar(range(1, num_topics + 1), dist)\n",
    "    plt.xlabel('Topic')\n",
    "    plt.ylabel('Proportion')\n",
    "    plt.title(f'Topic Distribution for Story {i + 1}')\n",
    "    plt.show()"
   ]
  },
  {
   "cell_type": "code",
   "execution_count": 17,
   "id": "bbc27d35",
   "metadata": {},
   "outputs": [
    {
     "name": "stdout",
     "output_type": "stream",
     "text": [
      "Average Topic Distribution Across Corpus: [0.13668727 0.23908183 0.20105673 0.20573867 0.2174355 ]\n"
     ]
    }
   ],
   "source": [
    "# Computes the average topic distribution across all Sherlock Holmes stories\n",
    "avg_topic_distribution = np.mean(topic_distributions, axis=0)\n",
    "print(\"Average Topic Distribution Across Corpus:\", avg_topic_distribution)"
   ]
  },
  {
   "cell_type": "code",
   "execution_count": 18,
   "id": "b6e5f599",
   "metadata": {},
   "outputs": [
    {
     "data": {
      "image/png": "[encoded data removed]",
      "text/plain": [
       "<Figure size 800x800 with 1 Axes>"
      ]
     },
     "metadata": {},
     "output_type": "display_data"
    }
   ],
   "source": [
    "# Average Topic Distribution - Pie Chart\n",
    "plt.figure(figsize=(8, 8))\n",
    "labels = [f\"Topic {i+1}\" for i in range(len(avg_topic_distribution))]\n",
    "plt.pie(avg_topic_distribution, labels=labels, autopct='%1.1f%%', startangle=90)\n",
    "plt.title('Average Topic Distribution Across Corpus')\n",
    "plt.show()"
   ]
  },
  {
   "cell_type": "code",
   "execution_count": 19,
   "id": "cc785a4d",
   "metadata": {
    "scrolled": false
   },
   "outputs": [
    {
     "data": {
      "image/png": "[encoded data removed]",
      "text/plain": [
       "<Figure size 600x400 with 1 Axes>"
      ]
     },
     "metadata": {},
     "output_type": "display_data"
    },
    {
     "data": {
      "image/png": "[encoded data removed]",
      "text/plain": [
       "<Figure size 600x400 with 1 Axes>"
      ]
     },
     "metadata": {},
     "output_type": "display_data"
    },
    {
     "data": {
      "image/png": "[encoded data removed]",
      "text/plain": [
       "<Figure size 600x400 with 1 Axes>"
      ]
     },
     "metadata": {},
     "output_type": "display_data"
    },
    {
     "data": {
      "image/png": "[encoded data removed]",
      "text/plain": [
       "<Figure size 600x400 with 1 Axes>"
      ]
     },
     "metadata": {},
     "output_type": "display_data"
    },
    {
     "data": {
      "image/png": "[encoded data removed]",
      "text/plain": [
       "<Figure size 600x400 with 1 Axes>"
      ]
     },
     "metadata": {},
     "output_type": "display_data"
    }
   ],
   "source": [
    "# Bar charts for individual stories\n",
    "for i, dist in enumerate(topic_distributions[:5]):  # First 5 stories\n",
    "    plt.figure(figsize=(6, 4))\n",
    "    plt.bar(range(1, len(dist) + 1), dist, tick_label=[f\"Topic {j+1}\" for j in range(len(dist))])\n",
    "    plt.xlabel('Topic')\n",
    "    plt.ylabel('Proportion')\n",
    "    plt.title(f'Topic Distribution for Story {i + 1}')\n",
    "    plt.show()"
   ]
  },
  {
   "cell_type": "code",
   "execution_count": 20,
   "id": "1b185921",
   "metadata": {},
   "outputs": [
    {
     "data": {
      "image/png": "[encoded data removed]",
      "text/plain": [
       "<Figure size 600x400 with 1 Axes>"
      ]
     },
     "metadata": {},
     "output_type": "display_data"
    },
    {
     "data": {
      "image/png": "[encoded data removed]",
      "text/plain": [
       "<Figure size 600x400 with 1 Axes>"
      ]
     },
     "metadata": {},
     "output_type": "display_data"
    },
    {
     "data": {
      "image/png": "[encoded data removed]",
      "text/plain": [
       "<Figure size 600x400 with 1 Axes>"
      ]
     },
     "metadata": {},
     "output_type": "display_data"
    },
    {
     "data": {
      "image/png": "[encoded data removed]",
      "text/plain": [
       "<Figure size 600x400 with 1 Axes>"
      ]
     },
     "metadata": {},
     "output_type": "display_data"
    }
   ],
   "source": [
    "# Comparing topic distributions across selected stories\n",
    "selected_stories = [11, 12, 25, 64]  # Example stories to compare\n",
    "for story_id in selected_stories:\n",
    "    plt.figure(figsize=(6, 4))\n",
    "    plt.bar(range(1, len(topic_distributions[story_id - 1]) + 1), topic_distributions[story_id - 1],\n",
    "            tick_label=[f\"Topic {j+1}\" for j in range(len(topic_distributions[story_id - 1]))])\n",
    "    plt.xlabel('Topic')\n",
    "    plt.ylabel('Proportion')\n",
    "    plt.title(f'Topic Distribution for Story {story_id}')\n",
    "    plt.show()"
   ]
  },
  {
   "cell_type": "code",
   "execution_count": 21,
   "id": "b550eea9",
   "metadata": {},
   "outputs": [
    {
     "name": "stdout",
     "output_type": "stream",
     "text": [
      "Topic 1: 13.67%\n",
      "Topic 2: 23.91%\n",
      "Topic 3: 20.11%\n",
      "Topic 4: 20.57%\n",
      "Topic 5: 21.74%\n"
     ]
    }
   ],
   "source": [
    "# Print average topic distribution in percentages\n",
    "for i, avg in enumerate(avg_topic_distribution):\n",
    "    print(f\"Topic {i+1}: {avg * 100:.2f}%\")"
   ]
  },
  {
   "cell_type": "code",
   "execution_count": 22,
   "id": "7d2a4a88",
   "metadata": {},
   "outputs": [
    {
     "name": "stdout",
     "output_type": "stream",
     "text": [
      "\n",
      "Saved topic distribution to 'average_topic_distribution.txt'.\n"
     ]
    }
   ],
   "source": [
    "# Saving average topic distribution to a text file\n",
    "report_file = \"average_topic_distribution.txt\"\n",
    "\n",
    "with open(report_file, \"w\") as file:\n",
    "    file.write(\"=== Average Topic Distribution Across Corpus ===\\n\")\n",
    "    for i, avg in enumerate(avg_topic_distribution):\n",
    "        file.write(f\"Topic {i+1}: {avg * 100:.2f}% of total content\\n\")\n",
    "\n",
    "print(f\"\\nSaved topic distribution to '{report_file}'.\")"
   ]
  },
  {
   "cell_type": "code",
   "execution_count": 23,
   "id": "81719040",
   "metadata": {},
   "outputs": [
    {
     "name": "stdout",
     "output_type": "stream",
     "text": [
      "Story 1: Dominant Topic = Topic 3 (Proportion: 0.9996)\n",
      "Story 2: Dominant Topic = Topic 3 (Proportion: 0.9996)\n",
      "Story 3: Dominant Topic = Topic 5 (Proportion: 0.9996)\n",
      "Story 4: Dominant Topic = Topic 5 (Proportion: 0.9997)\n",
      "Story 5: Dominant Topic = Topic 2 (Proportion: 1.0000)\n",
      "Story 6: Dominant Topic = Topic 2 (Proportion: 0.9997)\n",
      "Story 7: Dominant Topic = Topic 5 (Proportion: 0.9997)\n",
      "Story 8: Dominant Topic = Topic 3 (Proportion: 0.9997)\n",
      "Story 9: Dominant Topic = Topic 2 (Proportion: 0.9997)\n",
      "Story 10: Dominant Topic = Topic 2 (Proportion: 0.9997)\n",
      "Story 11: Dominant Topic = Topic 1 (Proportion: 0.9998)\n",
      "Story 12: Dominant Topic = Topic 2 (Proportion: 0.3622)\n",
      "Story 13: Dominant Topic = Topic 1 (Proportion: 0.9966)\n",
      "Story 14: Dominant Topic = Topic 3 (Proportion: 1.0000)\n",
      "Story 15: Dominant Topic = Topic 5 (Proportion: 0.9832)\n",
      "Story 16: Dominant Topic = Topic 2 (Proportion: 0.4011)\n",
      "Story 17: Dominant Topic = Topic 2 (Proportion: 0.9998)\n",
      "Story 18: Dominant Topic = Topic 3 (Proportion: 0.9997)\n",
      "Story 19: Dominant Topic = Topic 4 (Proportion: 0.8163)\n",
      "Story 20: Dominant Topic = Topic 5 (Proportion: 0.9998)\n",
      "Story 21: Dominant Topic = Topic 1 (Proportion: 0.9998)\n",
      "Story 22: Dominant Topic = Topic 1 (Proportion: 0.9962)\n",
      "Story 23: Dominant Topic = Topic 5 (Proportion: 0.9854)\n",
      "Story 24: Dominant Topic = Topic 2 (Proportion: 0.9974)\n",
      "Story 25: Dominant Topic = Topic 4 (Proportion: 0.7995)\n",
      "Story 26: Dominant Topic = Topic 2 (Proportion: 0.9905)\n",
      "Story 27: Dominant Topic = Topic 4 (Proportion: 0.9938)\n",
      "Story 28: Dominant Topic = Topic 5 (Proportion: 0.9997)\n",
      "Story 29: Dominant Topic = Topic 4 (Proportion: 0.9997)\n",
      "Story 30: Dominant Topic = Topic 2 (Proportion: 0.9618)\n",
      "Story 31: Dominant Topic = Topic 2 (Proportion: 0.9997)\n",
      "Story 32: Dominant Topic = Topic 3 (Proportion: 0.9997)\n",
      "Story 33: Dominant Topic = Topic 1 (Proportion: 0.9997)\n",
      "Story 34: Dominant Topic = Topic 1 (Proportion: 0.9988)\n",
      "Story 35: Dominant Topic = Topic 3 (Proportion: 0.9996)\n",
      "Story 36: Dominant Topic = Topic 1 (Proportion: 1.0000)\n",
      "Story 37: Dominant Topic = Topic 3 (Proportion: 0.9996)\n",
      "Story 38: Dominant Topic = Topic 4 (Proportion: 0.9650)\n",
      "Story 39: Dominant Topic = Topic 5 (Proportion: 0.9997)\n",
      "Story 40: Dominant Topic = Topic 4 (Proportion: 0.9513)\n",
      "Story 41: Dominant Topic = Topic 4 (Proportion: 0.9968)\n",
      "Story 42: Dominant Topic = Topic 2 (Proportion: 0.9788)\n",
      "Story 43: Dominant Topic = Topic 5 (Proportion: 0.9997)\n",
      "Story 44: Dominant Topic = Topic 5 (Proportion: 0.9998)\n",
      "Story 45: Dominant Topic = Topic 1 (Proportion: 0.9997)\n",
      "Story 46: Dominant Topic = Topic 2 (Proportion: 0.9997)\n",
      "Story 47: Dominant Topic = Topic 4 (Proportion: 0.9116)\n",
      "Story 48: Dominant Topic = Topic 4 (Proportion: 0.9996)\n",
      "Story 49: Dominant Topic = Topic 3 (Proportion: 0.9953)\n",
      "Story 50: Dominant Topic = Topic 5 (Proportion: 0.9998)\n",
      "Story 51: Dominant Topic = Topic 2 (Proportion: 0.9947)\n",
      "Story 52: Dominant Topic = Topic 5 (Proportion: 0.9998)\n",
      "Story 53: Dominant Topic = Topic 3 (Proportion: 0.9996)\n",
      "Story 54: Dominant Topic = Topic 2 (Proportion: 0.9147)\n",
      "Story 55: Dominant Topic = Topic 4 (Proportion: 0.9281)\n",
      "Story 56: Dominant Topic = Topic 5 (Proportion: 0.9997)\n",
      "Story 57: Dominant Topic = Topic 5 (Proportion: 0.9990)\n",
      "Story 58: Dominant Topic = Topic 2 (Proportion: 0.9998)\n",
      "Story 59: Dominant Topic = Topic 4 (Proportion: 0.9996)\n",
      "Story 60: Dominant Topic = Topic 4 (Proportion: 0.8893)\n",
      "Story 61: Dominant Topic = Topic 3 (Proportion: 0.9996)\n",
      "Story 62: Dominant Topic = Topic 3 (Proportion: 0.9997)\n",
      "Story 63: Dominant Topic = Topic 2 (Proportion: 0.9997)\n",
      "Story 64: Dominant Topic = Topic 4 (Proportion: 0.8816)\n",
      "Story 65: Dominant Topic = Topic 3 (Proportion: 0.9994)\n",
      "Story 66: Dominant Topic = Topic 1 (Proportion: 0.9998)\n",
      "Story 67: Dominant Topic = Topic 4 (Proportion: 0.9738)\n"
     ]
    }
   ],
   "source": [
    "# Identifying dominant topic in each story\n",
    "for i, dist in enumerate(topic_distributions):\n",
    "    dominant_topic = np.argmax(dist) + 1  # Adding 1 to match topic numbering\n",
    "    print(f\"Story {i + 1}: Dominant Topic = Topic {dominant_topic} (Proportion: {dist[dominant_topic - 1]:.4f})\")"
   ]
  },
  {
   "cell_type": "code",
   "execution_count": 24,
   "id": "bf6d9c69",
   "metadata": {},
   "outputs": [
    {
     "name": "stdout",
     "output_type": "stream",
     "text": [
      "\n",
      "Saved dominant topic per story to 'dominant_topics_per_story.txt'.\n"
     ]
    }
   ],
   "source": [
    "# Saving dominant topics per story to a file\n",
    "dominant_topics_file = \"dominant_topics_per_story.txt\"\n",
    "\n",
    "with open(dominant_topics_file, \"w\") as file:\n",
    "    file.write(\"=== Dominant Topic per Story ===\\n\")\n",
    "    for i, dist in enumerate(topic_distributions):\n",
    "        dominant_topic = np.argmax(dist) + 1\n",
    "        proportion = dist[dominant_topic - 1] * 100\n",
    "        file.write(f\"Story {i + 1}: Dominant Topic = Topic {dominant_topic} ({proportion:.2f}%)\\n\")\n",
    "\n",
    "print(f\"\\nSaved dominant topic per story to '{dominant_topics_file}'.\")"
   ]
  },
  {
   "cell_type": "code",
   "execution_count": 25,
   "id": "522c0c36",
   "metadata": {},
   "outputs": [
    {
     "name": "stdout",
     "output_type": "stream",
     "text": [
      "Topic 1 dominates in 9 stories (13.43%)\n",
      "Topic 2 dominates in 17 stories (25.37%)\n",
      "Topic 3 dominates in 13 stories (19.40%)\n",
      "Topic 4 dominates in 14 stories (20.90%)\n",
      "Topic 5 dominates in 14 stories (20.90%)\n"
     ]
    }
   ],
   "source": [
    "# Summarise dominant topics across the corpus\n",
    "dominant_topics = [np.argmax(dist) + 1 for dist in topic_distributions]\n",
    "unique, counts = np.unique(dominant_topics, return_counts=True)\n",
    "for topic, count in zip(unique, counts):\n",
    "    print(f\"Topic {topic} dominates in {count} stories ({(count / len(topic_distributions)) * 100:.2f}%)\")"
   ]
  }
 ],
 "metadata": {
  "kernelspec": {
   "display_name": "Python 3 (ipykernel)",
   "language": "python",
   "name": "python3"
  },
  "language_info": {
   "codemirror_mode": {
    "name": "ipython",
    "version": 3
   },
   "file_extension": ".py",
   "mimetype": "text/x-python",
   "name": "python",
   "nbconvert_exporter": "python",
   "pygments_lexer": "ipython3",
   "version": "3.11.7"
  }
 },
 "nbformat": 4,
 "nbformat_minor": 5
}
